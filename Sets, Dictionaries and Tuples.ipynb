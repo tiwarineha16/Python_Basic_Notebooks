{
 "cells": [
  {
   "cell_type": "markdown",
   "id": "e650c989",
   "metadata": {},
   "source": [
    "# Python Sets, DIctionaries and Tuples"
   ]
  },
  {
   "cell_type": "markdown",
   "id": "b8657c2f",
   "metadata": {},
   "source": [
    " - unordered collection datatype\n",
    " - iterable and mutable \n",
    " - Does not contain duplicates\n",
    " - Based on a data structure k/a hash table"
   ]
  },
  {
   "cell_type": "code",
   "execution_count": 1,
   "id": "aae5a74d",
   "metadata": {},
   "outputs": [],
   "source": [
    "my_set= set()"
   ]
  },
  {
   "cell_type": "code",
   "execution_count": 4,
   "id": "a90a3b9f",
   "metadata": {},
   "outputs": [
    {
     "name": "stdout",
     "output_type": "stream",
     "text": [
      "set()\n"
     ]
    }
   ],
   "source": [
    "print(my_set)"
   ]
  },
  {
   "cell_type": "code",
   "execution_count": 3,
   "id": "080666b8",
   "metadata": {},
   "outputs": [
    {
     "name": "stdout",
     "output_type": "stream",
     "text": [
      "<class 'type'>\n"
     ]
    }
   ],
   "source": [
    "print(type(set))"
   ]
  },
  {
   "cell_type": "code",
   "execution_count": 6,
   "id": "34c7ecd7",
   "metadata": {},
   "outputs": [],
   "source": [
    "my_set={\"Apple\",\"Apple\", \"Ball\",'Coin',\"Python\"}"
   ]
  },
  {
   "cell_type": "code",
   "execution_count": 7,
   "id": "57157a6d",
   "metadata": {},
   "outputs": [
    {
     "data": {
      "text/plain": [
       "{'Apple', 'Ball', 'Coin'}"
      ]
     },
     "execution_count": 7,
     "metadata": {},
     "output_type": "execute_result"
    }
   ],
   "source": [
    "my_set"
   ]
  },
  {
   "cell_type": "markdown",
   "id": "8828c9c4",
   "metadata": {},
   "source": [
    " - Inbuilt functions in sets"
   ]
  },
  {
   "cell_type": "code",
   "execution_count": 9,
   "id": "6500908f",
   "metadata": {},
   "outputs": [],
   "source": [
    "my_set.add(\"Neha\")"
   ]
  },
  {
   "cell_type": "code",
   "execution_count": 10,
   "id": "d5f321dd",
   "metadata": {},
   "outputs": [
    {
     "data": {
      "text/plain": [
       "{'Apple', 'Ball', 'Coin', 'Neha'}"
      ]
     },
     "execution_count": 10,
     "metadata": {},
     "output_type": "execute_result"
    }
   ],
   "source": [
    "my_set"
   ]
  },
  {
   "cell_type": "code",
   "execution_count": 15,
   "id": "f1a08b54",
   "metadata": {},
   "outputs": [],
   "source": [
    "my_set={\"Apple\",\"Apple\", \"Ball\",'Coin',\"Python\"}\n",
    "my_set1={\"Apple\",\"Apple\", \"Ball\",'Coin'}"
   ]
  },
  {
   "cell_type": "code",
   "execution_count": 17,
   "id": "6c7d65b6",
   "metadata": {},
   "outputs": [
    {
     "data": {
      "text/plain": [
       "set()"
      ]
     },
     "execution_count": 17,
     "metadata": {},
     "output_type": "execute_result"
    }
   ],
   "source": [
    "my_set1.difference(my_set)"
   ]
  },
  {
   "cell_type": "code",
   "execution_count": 18,
   "id": "9b0f96d4",
   "metadata": {},
   "outputs": [
    {
     "data": {
      "text/plain": [
       "{'Python'}"
      ]
     },
     "execution_count": 18,
     "metadata": {},
     "output_type": "execute_result"
    }
   ],
   "source": [
    "my_set.difference(my_set1)"
   ]
  },
  {
   "cell_type": "code",
   "execution_count": 23,
   "id": "2b82ffc3",
   "metadata": {},
   "outputs": [],
   "source": [
    "my_set1.intersection_update(my_set)"
   ]
  },
  {
   "cell_type": "code",
   "execution_count": 20,
   "id": "6f94558b",
   "metadata": {},
   "outputs": [
    {
     "data": {
      "text/plain": [
       "{'Apple', 'Ball', 'Coin', 'Python'}"
      ]
     },
     "execution_count": 20,
     "metadata": {},
     "output_type": "execute_result"
    }
   ],
   "source": [
    "my_set1.union(my_set)"
   ]
  },
  {
   "cell_type": "code",
   "execution_count": 21,
   "id": "101db550",
   "metadata": {},
   "outputs": [
    {
     "data": {
      "text/plain": [
       "{'Apple', 'Ball', 'Coin'}"
      ]
     },
     "execution_count": 21,
     "metadata": {},
     "output_type": "execute_result"
    }
   ],
   "source": [
    "my_set1"
   ]
  },
  {
   "cell_type": "code",
   "execution_count": 22,
   "id": "5b2c5510",
   "metadata": {},
   "outputs": [
    {
     "data": {
      "text/plain": [
       "{'Apple', 'Ball', 'Coin', 'Python'}"
      ]
     },
     "execution_count": 22,
     "metadata": {},
     "output_type": "execute_result"
    }
   ],
   "source": [
    "my_set"
   ]
  },
  {
   "cell_type": "markdown",
   "id": "c4195d98",
   "metadata": {},
   "source": [
    "# Dictionaries"
   ]
  },
  {
   "cell_type": "markdown",
   "id": "6806d73d",
   "metadata": {},
   "source": [
    "- Key value pairs \n",
    "- Unordered, Changeable and Indexed\n",
    "- Use Curly brackets for defining\n",
    "\n"
   ]
  },
  {
   "cell_type": "code",
   "execution_count": 2,
   "id": "b97f1837",
   "metadata": {},
   "outputs": [],
   "source": [
    "dic={}"
   ]
  },
  {
   "cell_type": "code",
   "execution_count": 3,
   "id": "e382e3fe",
   "metadata": {},
   "outputs": [
    {
     "data": {
      "text/plain": [
       "dict"
      ]
     },
     "execution_count": 3,
     "metadata": {},
     "output_type": "execute_result"
    }
   ],
   "source": [
    "type(dic)"
   ]
  },
  {
   "cell_type": "code",
   "execution_count": 5,
   "id": "53abb56a",
   "metadata": {},
   "outputs": [],
   "source": [
    "dic={1,2,3,4}"
   ]
  },
  {
   "cell_type": "code",
   "execution_count": 6,
   "id": "7b848a17",
   "metadata": {},
   "outputs": [
    {
     "data": {
      "text/plain": [
       "set"
      ]
     },
     "execution_count": 6,
     "metadata": {},
     "output_type": "execute_result"
    }
   ],
   "source": [
    "type(dic)"
   ]
  },
  {
   "cell_type": "code",
   "execution_count": 8,
   "id": "2d4fafd5",
   "metadata": {},
   "outputs": [],
   "source": [
    "dic1={\"Fruit1\":\"Apple\", \"Fruit2\":\"Mango\", \"Fruit3\":\"Kiwi\", \"Fruit4\":\"Orange\"}"
   ]
  },
  {
   "cell_type": "code",
   "execution_count": 9,
   "id": "afad3e51",
   "metadata": {},
   "outputs": [
    {
     "data": {
      "text/plain": [
       "{'Fruit1': 'Apple', 'Fruit2': 'Mango', 'Fruit3': 'Kiwi', 'Fruit4': 'Orange'}"
      ]
     },
     "execution_count": 9,
     "metadata": {},
     "output_type": "execute_result"
    }
   ],
   "source": [
    "dic1"
   ]
  },
  {
   "cell_type": "code",
   "execution_count": null,
   "id": "84c9f957",
   "metadata": {},
   "outputs": [],
   "source": [
    "# Acess the item values based on keys"
   ]
  },
  {
   "cell_type": "code",
   "execution_count": 11,
   "id": "2eddc8bb",
   "metadata": {},
   "outputs": [
    {
     "data": {
      "text/plain": [
       "'Mango'"
      ]
     },
     "execution_count": 11,
     "metadata": {},
     "output_type": "execute_result"
    }
   ],
   "source": [
    "dic1[\"Fruit2\"]"
   ]
  },
  {
   "cell_type": "code",
   "execution_count": 12,
   "id": "5b56ade2",
   "metadata": {},
   "outputs": [
    {
     "name": "stdout",
     "output_type": "stream",
     "text": [
      "Fruit1\n",
      "Fruit2\n",
      "Fruit3\n",
      "Fruit4\n"
     ]
    }
   ],
   "source": [
    "# Looping through dictionary keys\n",
    "\n",
    "for x in dic1:\n",
    "    print(x)"
   ]
  },
  {
   "cell_type": "code",
   "execution_count": 13,
   "id": "aa266e70",
   "metadata": {},
   "outputs": [
    {
     "name": "stdout",
     "output_type": "stream",
     "text": [
      "Apple\n",
      "Mango\n",
      "Kiwi\n",
      "Orange\n"
     ]
    }
   ],
   "source": [
    "# Looping through dictionary values\n",
    "\n",
    "for x in dic1.values():\n",
    "    print(x)"
   ]
  },
  {
   "cell_type": "code",
   "execution_count": 14,
   "id": "e7813595",
   "metadata": {},
   "outputs": [
    {
     "name": "stdout",
     "output_type": "stream",
     "text": [
      "('Fruit1', 'Apple')\n",
      "('Fruit2', 'Mango')\n",
      "('Fruit3', 'Kiwi')\n",
      "('Fruit4', 'Orange')\n"
     ]
    }
   ],
   "source": [
    "# Looping through both dictionary keys and values\n",
    "\n",
    "for x in dic1.items():\n",
    "    print(x)"
   ]
  },
  {
   "cell_type": "code",
   "execution_count": 15,
   "id": "230ea49c",
   "metadata": {},
   "outputs": [],
   "source": [
    "# Adding items to dictionaries\n",
    "\n",
    "dic1[\"Fruit5\"]=[\"Banana\"]"
   ]
  },
  {
   "cell_type": "code",
   "execution_count": 16,
   "id": "2793ee34",
   "metadata": {},
   "outputs": [
    {
     "data": {
      "text/plain": [
       "{'Fruit1': 'Apple',\n",
       " 'Fruit2': 'Mango',\n",
       " 'Fruit3': 'Kiwi',\n",
       " 'Fruit4': 'Orange',\n",
       " 'Fruit5': ['Banana']}"
      ]
     },
     "execution_count": 16,
     "metadata": {},
     "output_type": "execute_result"
    }
   ],
   "source": [
    "dic1"
   ]
  },
  {
   "cell_type": "code",
   "execution_count": 17,
   "id": "1836a908",
   "metadata": {},
   "outputs": [],
   "source": [
    "# Updating values in dictionaries gets overwritten\n",
    "\n",
    "dic1[\"Fruit1\"]=[\"Banana\"]"
   ]
  },
  {
   "cell_type": "code",
   "execution_count": 18,
   "id": "69029947",
   "metadata": {},
   "outputs": [
    {
     "data": {
      "text/plain": [
       "{'Fruit1': ['Banana'],\n",
       " 'Fruit2': 'Mango',\n",
       " 'Fruit3': 'Kiwi',\n",
       " 'Fruit4': 'Orange',\n",
       " 'Fruit5': ['Banana']}"
      ]
     },
     "execution_count": 18,
     "metadata": {},
     "output_type": "execute_result"
    }
   ],
   "source": [
    "dic1"
   ]
  },
  {
   "cell_type": "markdown",
   "id": "72460b24",
   "metadata": {},
   "source": [
    "# Nested Dictionary"
   ]
  },
  {
   "cell_type": "code",
   "execution_count": 21,
   "id": "47b63302",
   "metadata": {},
   "outputs": [],
   "source": [
    "car1_model={\"Mercedes\":1960}\n",
    "car2_model={\"Audi\":1970}\n",
    "car3_model={\"BMW\":1999}\n",
    "\n",
    "car_type={'car1':car1_model, 'car2':car2_model, 'car3':car3_model}"
   ]
  },
  {
   "cell_type": "code",
   "execution_count": 22,
   "id": "7399dd8c",
   "metadata": {},
   "outputs": [
    {
     "name": "stdout",
     "output_type": "stream",
     "text": [
      "{'car1': {'Mercedes': 1960}, 'car2': {'Audi': 1970}, 'car3': {'BMW': 1999}}\n"
     ]
    }
   ],
   "source": [
    "print(car_type)"
   ]
  },
  {
   "cell_type": "code",
   "execution_count": null,
   "id": "212994d2",
   "metadata": {},
   "outputs": [],
   "source": [
    "# Accessing the items in the dictonary"
   ]
  },
  {
   "cell_type": "code",
   "execution_count": 23,
   "id": "01da0996",
   "metadata": {},
   "outputs": [
    {
     "name": "stdout",
     "output_type": "stream",
     "text": [
      "{'Audi': 1970}\n"
     ]
    }
   ],
   "source": [
    "print(car_type['car2'])"
   ]
  },
  {
   "cell_type": "code",
   "execution_count": 29,
   "id": "fffe8d4c",
   "metadata": {},
   "outputs": [
    {
     "name": "stdout",
     "output_type": "stream",
     "text": [
      "1970\n"
     ]
    }
   ],
   "source": [
    "print(car_type['car2']['Audi'])"
   ]
  },
  {
   "cell_type": "markdown",
   "id": "f8bfef57",
   "metadata": {},
   "source": [
    "# Tuples"
   ]
  },
  {
   "cell_type": "markdown",
   "id": "1abf560d",
   "metadata": {},
   "source": [
    "- cannot change elements in tupes so immutable\n",
    "- defined in round brackets()\n",
    "- Doesnot support item assignment"
   ]
  },
  {
   "cell_type": "code",
   "execution_count": 30,
   "id": "a1b9bd20",
   "metadata": {},
   "outputs": [],
   "source": [
    "# create empty tuple\n",
    "\n",
    "a=()"
   ]
  },
  {
   "cell_type": "code",
   "execution_count": 31,
   "id": "ec734221",
   "metadata": {},
   "outputs": [
    {
     "data": {
      "text/plain": [
       "tuple"
      ]
     },
     "execution_count": 31,
     "metadata": {},
     "output_type": "execute_result"
    }
   ],
   "source": [
    "type(a)"
   ]
  },
  {
   "cell_type": "code",
   "execution_count": 32,
   "id": "58c11483",
   "metadata": {},
   "outputs": [],
   "source": [
    "a=('Neha','Mudit','Prashant','Suryansh')"
   ]
  },
  {
   "cell_type": "code",
   "execution_count": 34,
   "id": "c511c222",
   "metadata": {},
   "outputs": [
    {
     "name": "stdout",
     "output_type": "stream",
     "text": [
      "<class 'tuple'>\n",
      "('Neha', 'Mudit', 'Prashant', 'Suryansh')\n"
     ]
    }
   ],
   "source": [
    "print(type(a))\n",
    "print(a)"
   ]
  },
  {
   "cell_type": "code",
   "execution_count": 36,
   "id": "2a299ab3",
   "metadata": {},
   "outputs": [],
   "source": [
    "a=('Narendra','Mudit','Prashant','Suryansh')\n"
   ]
  },
  {
   "cell_type": "code",
   "execution_count": 37,
   "id": "a70d5474",
   "metadata": {},
   "outputs": [
    {
     "ename": "TypeError",
     "evalue": "'tuple' object does not support item assignment",
     "output_type": "error",
     "traceback": [
      "\u001b[1;31m---------------------------------------------------------------------------\u001b[0m",
      "\u001b[1;31mTypeError\u001b[0m                                 Traceback (most recent call last)",
      "Cell \u001b[1;32mIn[37], line 1\u001b[0m\n\u001b[1;32m----> 1\u001b[0m a[\u001b[38;5;241m0\u001b[39m]\u001b[38;5;241m=\u001b[39m\u001b[38;5;124m'\u001b[39m\u001b[38;5;124mNeha\u001b[39m\u001b[38;5;124m'\u001b[39m\n",
      "\u001b[1;31mTypeError\u001b[0m: 'tuple' object does not support item assignment"
     ]
    }
   ],
   "source": [
    "a[0]='Neha'"
   ]
  },
  {
   "cell_type": "code",
   "execution_count": 38,
   "id": "a5ad9cb5",
   "metadata": {},
   "outputs": [
    {
     "name": "stdout",
     "output_type": "stream",
     "text": [
      "('Narendra', 'Mudit', 'Prashant', 'Suryansh')\n"
     ]
    }
   ],
   "source": [
    "print(a)"
   ]
  },
  {
   "cell_type": "markdown",
   "id": "0d9f3e45",
   "metadata": {},
   "source": [
    "- Inbuiltl Function in tuples"
   ]
  },
  {
   "cell_type": "code",
   "execution_count": 39,
   "id": "393f64f5",
   "metadata": {},
   "outputs": [
    {
     "data": {
      "text/plain": [
       "0"
      ]
     },
     "execution_count": 39,
     "metadata": {},
     "output_type": "execute_result"
    }
   ],
   "source": [
    "a.count('Neha')"
   ]
  },
  {
   "cell_type": "code",
   "execution_count": 41,
   "id": "5a059134",
   "metadata": {},
   "outputs": [
    {
     "data": {
      "text/plain": [
       "2"
      ]
     },
     "execution_count": 41,
     "metadata": {},
     "output_type": "execute_result"
    }
   ],
   "source": [
    "a.index('Prashant')"
   ]
  }
 ],
 "metadata": {
  "kernelspec": {
   "display_name": "Python 3 (ipykernel)",
   "language": "python",
   "name": "python3"
  },
  "language_info": {
   "codemirror_mode": {
    "name": "ipython",
    "version": 3
   },
   "file_extension": ".py",
   "mimetype": "text/x-python",
   "name": "python",
   "nbconvert_exporter": "python",
   "pygments_lexer": "ipython3",
   "version": "3.11.7"
  }
 },
 "nbformat": 4,
 "nbformat_minor": 5
}
