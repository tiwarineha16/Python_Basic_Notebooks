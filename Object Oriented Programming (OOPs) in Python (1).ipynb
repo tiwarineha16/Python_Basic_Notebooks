{
 "cells": [
  {
   "cell_type": "code",
   "execution_count": 1,
   "id": "ddfd329f",
   "metadata": {},
   "outputs": [],
   "source": [
    "class Car:\n",
    "    pass # empty class"
   ]
  },
  {
   "cell_type": "code",
   "execution_count": 2,
   "id": "2c8d70dd",
   "metadata": {},
   "outputs": [],
   "source": [
    "# initialize an object \n",
    "car1= Car()"
   ]
  },
  {
   "cell_type": "code",
   "execution_count": 3,
   "id": "bcf28e8c",
   "metadata": {},
   "outputs": [
    {
     "data": {
      "text/plain": [
       "<__main__.Car at 0x16482aa3490>"
      ]
     },
     "execution_count": 3,
     "metadata": {},
     "output_type": "execute_result"
    }
   ],
   "source": [
    "car1"
   ]
  },
  {
   "cell_type": "code",
   "execution_count": 4,
   "id": "b150fdbd",
   "metadata": {},
   "outputs": [],
   "source": [
    "car1.windows=5"
   ]
  },
  {
   "cell_type": "code",
   "execution_count": 5,
   "id": "aca9d9bb",
   "metadata": {},
   "outputs": [
    {
     "name": "stdout",
     "output_type": "stream",
     "text": [
      "5\n"
     ]
    }
   ],
   "source": [
    "print(car1.windows)"
   ]
  },
  {
   "cell_type": "code",
   "execution_count": 6,
   "id": "8215f491",
   "metadata": {},
   "outputs": [],
   "source": [
    "car2=Car()"
   ]
  },
  {
   "cell_type": "code",
   "execution_count": 7,
   "id": "2cf0f14e",
   "metadata": {},
   "outputs": [],
   "source": [
    "car1.windows=3\n",
    "car2.doors=2"
   ]
  },
  {
   "cell_type": "code",
   "execution_count": 8,
   "id": "ba2f0756",
   "metadata": {},
   "outputs": [
    {
     "name": "stdout",
     "output_type": "stream",
     "text": [
      "2\n"
     ]
    }
   ],
   "source": [
    "print(car2.doors)"
   ]
  },
  {
   "cell_type": "code",
   "execution_count": 9,
   "id": "1fb31a35",
   "metadata": {},
   "outputs": [],
   "source": [
    "car2.enginetype='petrol'\n"
   ]
  },
  {
   "cell_type": "code",
   "execution_count": 10,
   "id": "ab38e2bd",
   "metadata": {},
   "outputs": [
    {
     "name": "stdout",
     "output_type": "stream",
     "text": [
      "petrol\n"
     ]
    }
   ],
   "source": [
    "print(car2.enginetype)"
   ]
  },
  {
   "cell_type": "code",
   "execution_count": 11,
   "id": "05446f3a",
   "metadata": {},
   "outputs": [
    {
     "data": {
      "text/plain": [
       "['__class__',\n",
       " '__delattr__',\n",
       " '__dict__',\n",
       " '__dir__',\n",
       " '__doc__',\n",
       " '__eq__',\n",
       " '__format__',\n",
       " '__ge__',\n",
       " '__getattribute__',\n",
       " '__getstate__',\n",
       " '__gt__',\n",
       " '__hash__',\n",
       " '__init__',\n",
       " '__init_subclass__',\n",
       " '__le__',\n",
       " '__lt__',\n",
       " '__module__',\n",
       " '__ne__',\n",
       " '__new__',\n",
       " '__reduce__',\n",
       " '__reduce_ex__',\n",
       " '__repr__',\n",
       " '__setattr__',\n",
       " '__sizeof__',\n",
       " '__str__',\n",
       " '__subclasshook__',\n",
       " '__weakref__']"
      ]
     },
     "execution_count": 11,
     "metadata": {},
     "output_type": "execute_result"
    }
   ],
   "source": [
    "dir(Car)"
   ]
  },
  {
   "cell_type": "code",
   "execution_count": 12,
   "id": "4ea3a749",
   "metadata": {},
   "outputs": [],
   "source": [
    "class Car:\n",
    "    def __init__(self,window, door, engine_type): # attributes will be initialized using constructor __init__\n",
    "        self.windows=window # self is initialized for objects \n",
    "        self.doors=door\n",
    "        self.engine_type=engine_type        \n",
    "    def self_driving(self):\n",
    "        return \"This is a {} car\".format(self.engine_type)\n",
    "    "
   ]
  },
  {
   "cell_type": "code",
   "execution_count": 13,
   "id": "c017d6b6",
   "metadata": {},
   "outputs": [
    {
     "ename": "TypeError",
     "evalue": "Car.__init__() missing 3 required positional arguments: 'window', 'door', and 'engine_type'",
     "output_type": "error",
     "traceback": [
      "\u001b[1;31m---------------------------------------------------------------------------\u001b[0m",
      "\u001b[1;31mTypeError\u001b[0m                                 Traceback (most recent call last)",
      "Cell \u001b[1;32mIn[13], line 1\u001b[0m\n\u001b[1;32m----> 1\u001b[0m car1\u001b[38;5;241m=\u001b[39mCar()\n",
      "\u001b[1;31mTypeError\u001b[0m: Car.__init__() missing 3 required positional arguments: 'window', 'door', and 'engine_type'"
     ]
    }
   ],
   "source": [
    "car1=Car()"
   ]
  },
  {
   "cell_type": "code",
   "execution_count": 14,
   "id": "c5648daf",
   "metadata": {},
   "outputs": [],
   "source": [
    "car1=Car(4,5,'petrol')"
   ]
  },
  {
   "cell_type": "code",
   "execution_count": 15,
   "id": "3fe9a942",
   "metadata": {},
   "outputs": [],
   "source": [
    "car2=Car(4,3,'diesel')"
   ]
  },
  {
   "cell_type": "code",
   "execution_count": 16,
   "id": "11ca7ee7",
   "metadata": {},
   "outputs": [
    {
     "name": "stdout",
     "output_type": "stream",
     "text": [
      "4 3 diesel\n"
     ]
    }
   ],
   "source": [
    "print(car1.windows, car2.doors, car2.engine_type)"
   ]
  },
  {
   "cell_type": "code",
   "execution_count": 17,
   "id": "636f629d",
   "metadata": {},
   "outputs": [
    {
     "data": {
      "text/plain": [
       "'This is a diesel car'"
      ]
     },
     "execution_count": 17,
     "metadata": {},
     "output_type": "execute_result"
    }
   ],
   "source": [
    "car2.self_driving()"
   ]
  },
  {
   "cell_type": "markdown",
   "id": "ff0892c7",
   "metadata": {},
   "source": [
    "# Exception Handling"
   ]
  },
  {
   "cell_type": "code",
   "execution_count": 18,
   "id": "1e41a58e",
   "metadata": {},
   "outputs": [
    {
     "name": "stdout",
     "output_type": "stream",
     "text": [
      "User may have not defined the variable\n"
     ]
    }
   ],
   "source": [
    "\n",
    "try:\n",
    "    # try block-- write the code where exception can occur\n",
    "    a=b\n",
    "except NameError as ex1:\n",
    "    print(\"User may have not defined the variable\")\n",
    "except Exception as ex:\n",
    "    print(ex)\n",
    "    \n",
    "    "
   ]
  },
  {
   "cell_type": "code",
   "execution_count": 19,
   "id": "632f190f",
   "metadata": {},
   "outputs": [
    {
     "ename": "NameError",
     "evalue": "name 'b' is not defined",
     "output_type": "error",
     "traceback": [
      "\u001b[1;31m---------------------------------------------------------------------------\u001b[0m",
      "\u001b[1;31mNameError\u001b[0m                                 Traceback (most recent call last)",
      "Cell \u001b[1;32mIn[19], line 1\u001b[0m\n\u001b[1;32m----> 1\u001b[0m a\u001b[38;5;241m=\u001b[39mb\n",
      "\u001b[1;31mNameError\u001b[0m: name 'b' is not defined"
     ]
    }
   ],
   "source": [
    "a=b"
   ]
  },
  {
   "cell_type": "code",
   "execution_count": 20,
   "id": "9900d671",
   "metadata": {},
   "outputs": [
    {
     "name": "stdout",
     "output_type": "stream",
     "text": [
      "Different Datatypes for Operation Given\n"
     ]
    }
   ],
   "source": [
    "\n",
    "try:\n",
    "    # try block-- write the code where exception can occur\n",
    "    a=1\n",
    "    b='s'\n",
    "    c=a+b\n",
    "      \n",
    "except NameError:\n",
    "    print(\"User may have not defined the variable\")\n",
    "except TypeError:\n",
    "    print(\"Different Datatypes for Operation Given\")\n",
    "except Exception as ex:\n",
    "    print(ex)\n",
    "    "
   ]
  },
  {
   "cell_type": "code",
   "execution_count": 21,
   "id": "4d49c644",
   "metadata": {},
   "outputs": [
    {
     "name": "stdout",
     "output_type": "stream",
     "text": [
      "Enter the number 1 12\n",
      "Enter the number 2 4\n",
      "3.0\n",
      "48\n",
      "16\n"
     ]
    }
   ],
   "source": [
    "\n",
    "try:\n",
    "    # try block-- write the code where exception can occur\n",
    "    a=int(input(\"Enter the number 1 \"))\n",
    "    b=int(input(\"Enter the number 2 \"))\n",
    "    c=a/b\n",
    "    d=a*b\n",
    "    e=a+b\n",
    "    print(c)\n",
    "    print(d)\n",
    "    print(e)\n",
    "      \n",
    "except NameError:\n",
    "    print(\"User may have not defined the variable\")\n",
    "except ZeroDivisionError:\n",
    "    print(\"Please provide number greater than zero\")\n",
    "except TypeError:\n",
    "    print(\"Different Datatypes for Operation Given\")\n",
    "except Exception as ex:\n",
    "    print(ex)\n",
    "    "
   ]
  },
  {
   "cell_type": "code",
   "execution_count": 22,
   "id": "eb383252",
   "metadata": {},
   "outputs": [
    {
     "name": "stdout",
     "output_type": "stream",
     "text": [
      "Enter the number 1 12\n",
      "Enter the number 2 3\n",
      "4.0\n",
      "36\n",
      "15\n"
     ]
    }
   ],
   "source": [
    "# Try else block \n",
    "\n",
    "\n",
    "try:\n",
    "    # try block-- write the code where exception can occur\n",
    "    a=int(input(\"Enter the number 1 \"))\n",
    "    b=int(input(\"Enter the number 2 \"))\n",
    "    c=a/b\n",
    "    d=a*b\n",
    "    e=a+b\n",
    "except NameError:\n",
    "    print(\"User may have not defined the variable\")\n",
    "except ZeroDivisionError:\n",
    "    print(\"Please provide number greater than zero\")\n",
    "except TypeError:\n",
    "    print(\"Different Datatypes for Operation Given\")\n",
    "except Exception as ex:\n",
    "    print(ex)\n",
    "else: # if exception is not getting triggered \n",
    "    print(c)\n",
    "    print(d)\n",
    "    print(e)\n",
    "    "
   ]
  },
  {
   "cell_type": "code",
   "execution_count": 23,
   "id": "cd79615f",
   "metadata": {},
   "outputs": [
    {
     "name": "stdout",
     "output_type": "stream",
     "text": [
      "Enter the number 1 13\n",
      "Enter the number 2 1\n",
      "13.0\n",
      "excution is done\n"
     ]
    }
   ],
   "source": [
    "try:\n",
    "    # try block-- write the code where exception can occur\n",
    "    a=int(input(\"Enter the number 1 \"))\n",
    "    b=int(input(\"Enter the number 2 \"))\n",
    "    c=a/b\n",
    "    d=a*b\n",
    "    e=a+b\n",
    "except NameError:\n",
    "    print(\"User may have not defined the variable\")\n",
    "except ZeroDivisionError:\n",
    "    print(\"Please provide number greater than zero\")\n",
    "except TypeError:\n",
    "    print(\"Different Datatypes for Operation Given\")\n",
    "except Exception as ex:\n",
    "    print(ex)\n",
    "else: # if exception is not getting triggered \n",
    "    print(c)\n",
    "\n",
    "finally:\n",
    "    print(\"excution is done\")\n",
    "    "
   ]
  },
  {
   "cell_type": "code",
   "execution_count": 24,
   "id": "bf19602b",
   "metadata": {},
   "outputs": [
    {
     "name": "stdout",
     "output_type": "stream",
     "text": [
      "Enter the number 1 14\n",
      "Enter the number 2 7\n",
      "2.0\n",
      "98\n",
      "21\n",
      "excution is done\n"
     ]
    }
   ],
   "source": [
    "# try ELse Finally\n",
    "\n",
    "\n",
    "try:\n",
    "    # try block-- write the code where exception can occur\n",
    "    a=int(input(\"Enter the number 1 \"))\n",
    "    b=int(input(\"Enter the number 2 \"))\n",
    "    c=a/b\n",
    "    d=a*b\n",
    "    e=a+b\n",
    "except NameError:\n",
    "    print(\"User may have not defined the variable\")\n",
    "except ZeroDivisionError:\n",
    "    print(\"Please provide number greater than zero\")\n",
    "except TypeError:\n",
    "    print(\"Different Datatypes for Operation Given\")\n",
    "except Exception as ex:\n",
    "    print(ex)\n",
    "else: # if exception is not getting triggered \n",
    "    print(c)\n",
    "    print(d)\n",
    "    print(e)\n",
    "\n",
    "finally:\n",
    "    print(\"excution is done\")"
   ]
  },
  {
   "cell_type": "markdown",
   "id": "653a7f22",
   "metadata": {},
   "source": [
    "# Custom Exception Handling"
   ]
  },
  {
   "cell_type": "code",
   "execution_count": 25,
   "id": "9dcef6aa",
   "metadata": {},
   "outputs": [],
   "source": [
    "class Error(Exception):\n",
    "    pass\n",
    "\n",
    "class dobException(Error):\n",
    "    pass\n",
    "\n",
    "class cutomgeneric(Error):\n",
    "    pass"
   ]
  },
  {
   "cell_type": "code",
   "execution_count": 26,
   "id": "8fed40b8",
   "metadata": {},
   "outputs": [
    {
     "name": "stdout",
     "output_type": "stream",
     "text": [
      "Enter the year of Birth 2022\n",
      "The year is out of range. You cannot apply for the exams.\n"
     ]
    }
   ],
   "source": [
    "year=int(input(\"Enter the year of Birth \"))\n",
    "\n",
    "age=2024-year\n",
    "\n",
    "try:\n",
    "    if age<=30 & age>20:\n",
    "        print(\"The age is valid. You can apply for the exams.\")\n",
    "        pass\n",
    "    else:\n",
    "        raise dobException\n",
    "except dobException:\n",
    "    print(\"The year is out of range. You cannot apply for the exams.\")\n",
    "        \n",
    "    \n",
    "    "
   ]
  },
  {
   "cell_type": "markdown",
   "id": "3112c357",
   "metadata": {},
   "source": [
    "# OOPS Inheritance"
   ]
  },
  {
   "cell_type": "code",
   "execution_count": 27,
   "id": "eaa2c97a",
   "metadata": {},
   "outputs": [],
   "source": [
    "class Car:\n",
    "    def __init__(self,windows, doors, engine_type): # attributes will be initialized using constructor __init__\n",
    "        self.windows=windows # self is initialized for objects \n",
    "        self.doors=doors\n",
    "        self.engine_type=engine_type        \n",
    "    def drive(self):\n",
    "        return \"The Person drives the Car\"\n",
    "    \n",
    "    "
   ]
  },
  {
   "cell_type": "code",
   "execution_count": 28,
   "id": "00f23947",
   "metadata": {},
   "outputs": [],
   "source": [
    "car=Car(4,5,'diesel')"
   ]
  },
  {
   "cell_type": "code",
   "execution_count": 29,
   "id": "bc2edee9",
   "metadata": {},
   "outputs": [
    {
     "data": {
      "text/plain": [
       "4"
      ]
     },
     "execution_count": 29,
     "metadata": {},
     "output_type": "execute_result"
    }
   ],
   "source": [
    "car.windows"
   ]
  },
  {
   "cell_type": "code",
   "execution_count": 30,
   "id": "fea6f759",
   "metadata": {},
   "outputs": [
    {
     "data": {
      "text/plain": [
       "'The Person drives the Car'"
      ]
     },
     "execution_count": 30,
     "metadata": {},
     "output_type": "execute_result"
    }
   ],
   "source": [
    "car.drive()"
   ]
  },
  {
   "cell_type": "code",
   "execution_count": 31,
   "id": "0fcd62f0",
   "metadata": {},
   "outputs": [],
   "source": [
    "class audi(Car):\n",
    "    def __init__(self, windows, doors, engine_type, enableAI):\n",
    "        super().__init__(windows, doors, engine_type)\n",
    "        self.enableAI=enableAI\n",
    "    def self_driving(self):\n",
    "        print(\"Audi supports self driving\")"
   ]
  },
  {
   "cell_type": "code",
   "execution_count": 32,
   "id": "7c9b06da",
   "metadata": {},
   "outputs": [],
   "source": [
    "car1=audi(5,5,\"diesel\", True)"
   ]
  },
  {
   "cell_type": "code",
   "execution_count": 33,
   "id": "870fb894",
   "metadata": {},
   "outputs": [
    {
     "data": {
      "text/plain": [
       "['__class__',\n",
       " '__delattr__',\n",
       " '__dict__',\n",
       " '__dir__',\n",
       " '__doc__',\n",
       " '__eq__',\n",
       " '__format__',\n",
       " '__ge__',\n",
       " '__getattribute__',\n",
       " '__getstate__',\n",
       " '__gt__',\n",
       " '__hash__',\n",
       " '__init__',\n",
       " '__init_subclass__',\n",
       " '__le__',\n",
       " '__lt__',\n",
       " '__module__',\n",
       " '__ne__',\n",
       " '__new__',\n",
       " '__reduce__',\n",
       " '__reduce_ex__',\n",
       " '__repr__',\n",
       " '__setattr__',\n",
       " '__sizeof__',\n",
       " '__str__',\n",
       " '__subclasshook__',\n",
       " '__weakref__',\n",
       " 'doors',\n",
       " 'drive',\n",
       " 'enableAI',\n",
       " 'engine_type',\n",
       " 'self_driving',\n",
       " 'windows']"
      ]
     },
     "execution_count": 33,
     "metadata": {},
     "output_type": "execute_result"
    }
   ],
   "source": [
    "dir(car1)"
   ]
  },
  {
   "cell_type": "code",
   "execution_count": 34,
   "id": "e35b690b",
   "metadata": {},
   "outputs": [
    {
     "data": {
      "text/plain": [
       "'diesel'"
      ]
     },
     "execution_count": 34,
     "metadata": {},
     "output_type": "execute_result"
    }
   ],
   "source": [
    "car1.engine_type"
   ]
  },
  {
   "cell_type": "code",
   "execution_count": 35,
   "id": "49bdd79d",
   "metadata": {},
   "outputs": [
    {
     "data": {
      "text/plain": [
       "True"
      ]
     },
     "execution_count": 35,
     "metadata": {},
     "output_type": "execute_result"
    }
   ],
   "source": [
    "car1.enableAI"
   ]
  },
  {
   "cell_type": "code",
   "execution_count": 36,
   "id": "05f1b05d",
   "metadata": {},
   "outputs": [
    {
     "data": {
      "text/plain": [
       "'The Person drives the Car'"
      ]
     },
     "execution_count": 36,
     "metadata": {},
     "output_type": "execute_result"
    }
   ],
   "source": [
    "car1.drive()"
   ]
  },
  {
   "cell_type": "code",
   "execution_count": 38,
   "id": "37d7f5f7",
   "metadata": {},
   "outputs": [
    {
     "name": "stdout",
     "output_type": "stream",
     "text": [
      "Audi supports self driving\n"
     ]
    }
   ],
   "source": [
    "car1.self_driving()"
   ]
  },
  {
   "cell_type": "markdown",
   "id": "13b890b1",
   "metadata": {},
   "source": [
    "# Magic Methods in Python"
   ]
  },
  {
   "cell_type": "code",
   "execution_count": 58,
   "id": "994355e5",
   "metadata": {},
   "outputs": [],
   "source": [
    "class Car:\n",
    "    def __init__(self,windows, doors, engine_type): # attributes will be initialized using constructor __init__\n",
    "        self.windows=windows # self is initialized for objects \n",
    "        self.doors=doors\n",
    "        self.engine_type=engine_type  \n",
    "    def __str__(self):\n",
    "        return \"The object has been initialized\"\n",
    "    def __sizeof__(self):\n",
    "        return \"This displays the size of the object\"\n",
    "    def drive(self):\n",
    "        return \"The Person drives the Car\""
   ]
  },
  {
   "cell_type": "code",
   "execution_count": 59,
   "id": "2eab1d31",
   "metadata": {},
   "outputs": [],
   "source": [
    "car2=Car(2,4,\"Petrol\")"
   ]
  },
  {
   "cell_type": "code",
   "execution_count": 60,
   "id": "055e0017",
   "metadata": {},
   "outputs": [
    {
     "name": "stdout",
     "output_type": "stream",
     "text": [
      "The object has been initialized\n"
     ]
    }
   ],
   "source": [
    "print(car2)"
   ]
  },
  {
   "cell_type": "code",
   "execution_count": 61,
   "id": "e4c073d4",
   "metadata": {},
   "outputs": [
    {
     "data": {
      "text/plain": [
       "['__class__',\n",
       " '__delattr__',\n",
       " '__dict__',\n",
       " '__dir__',\n",
       " '__doc__',\n",
       " '__eq__',\n",
       " '__format__',\n",
       " '__ge__',\n",
       " '__getattribute__',\n",
       " '__getstate__',\n",
       " '__gt__',\n",
       " '__hash__',\n",
       " '__init__',\n",
       " '__init_subclass__',\n",
       " '__le__',\n",
       " '__lt__',\n",
       " '__module__',\n",
       " '__ne__',\n",
       " '__new__',\n",
       " '__reduce__',\n",
       " '__reduce_ex__',\n",
       " '__repr__',\n",
       " '__setattr__',\n",
       " '__sizeof__',\n",
       " '__str__',\n",
       " '__subclasshook__',\n",
       " '__weakref__',\n",
       " 'doors',\n",
       " 'drive',\n",
       " 'engine_type',\n",
       " 'windows']"
      ]
     },
     "execution_count": 61,
     "metadata": {},
     "output_type": "execute_result"
    }
   ],
   "source": [
    "dir(car2) ####Magic methods  of the object Car2"
   ]
  },
  {
   "cell_type": "code",
   "execution_count": 62,
   "id": "a2ee42a3",
   "metadata": {},
   "outputs": [
    {
     "data": {
      "text/plain": [
       "'The object has been initialized'"
      ]
     },
     "execution_count": 62,
     "metadata": {},
     "output_type": "execute_result"
    }
   ],
   "source": [
    "car2.__str__()"
   ]
  },
  {
   "cell_type": "code",
   "execution_count": 63,
   "id": "40d834eb",
   "metadata": {},
   "outputs": [
    {
     "data": {
      "text/plain": [
       "'This displays the size of the object'"
      ]
     },
     "execution_count": 63,
     "metadata": {},
     "output_type": "execute_result"
    }
   ],
   "source": [
    "car2.__sizeof__() # no of bytes of the object"
   ]
  },
  {
   "cell_type": "code",
   "execution_count": 65,
   "id": "c81b2166",
   "metadata": {},
   "outputs": [
    {
     "data": {
      "text/plain": [
       "'This displays the size of the object'"
      ]
     },
     "execution_count": 65,
     "metadata": {},
     "output_type": "execute_result"
    }
   ],
   "source": [
    "car2.__sizeof__()"
   ]
  },
  {
   "cell_type": "code",
   "execution_count": 69,
   "id": "454371c8",
   "metadata": {},
   "outputs": [],
   "source": [
    "class Car:\n",
    "    def __new__(self,windows, doors, engine_type): \n",
    "        print(\"The object is getting initialized\")\n",
    "    def __init__(self,windows, doors, engine_type): # attributes will be initialized using constructor __init__\n",
    "        self.windows=windows # self is initialized for objects \n",
    "        self.doors=doors\n",
    "        self.engine_type=engine_type  \n",
    "    def __str__(self):\n",
    "        return \"The object has been initialized\"\n",
    "    def __sizeof__(self):\n",
    "        return \"This displays the size of the object\"\n",
    "    def drive(self):\n",
    "        return \"The Person drives the Car\""
   ]
  },
  {
   "cell_type": "code",
   "execution_count": 71,
   "id": "acc3eacb",
   "metadata": {},
   "outputs": [
    {
     "name": "stdout",
     "output_type": "stream",
     "text": [
      "The object is getting initialized\n"
     ]
    }
   ],
   "source": [
    "car2=Car(2,4,\"Petrol\")"
   ]
  },
  {
   "cell_type": "markdown",
   "id": "b5f3457a",
   "metadata": {},
   "source": [
    "# Python Assert Statement"
   ]
  },
  {
   "cell_type": "markdown",
   "id": "d7866e06",
   "metadata": {},
   "source": [
    "- Used to check if a given logical expression is true or false.\n",
    "- It raises AssertionError is the expression returns false else the execution is initialized"
   ]
  },
  {
   "cell_type": "code",
   "execution_count": 72,
   "id": "a9d22d7c",
   "metadata": {},
   "outputs": [],
   "source": [
    "num=10\n",
    "\n",
    "assert num>=10"
   ]
  },
  {
   "cell_type": "code",
   "execution_count": 73,
   "id": "4171b3a6",
   "metadata": {},
   "outputs": [
    {
     "ename": "AssertionError",
     "evalue": "",
     "output_type": "error",
     "traceback": [
      "\u001b[1;31m---------------------------------------------------------------------------\u001b[0m",
      "\u001b[1;31mAssertionError\u001b[0m                            Traceback (most recent call last)",
      "Cell \u001b[1;32mIn[73], line 3\u001b[0m\n\u001b[0;32m      1\u001b[0m num\u001b[38;5;241m=\u001b[39m\u001b[38;5;241m10\u001b[39m\n\u001b[1;32m----> 3\u001b[0m \u001b[38;5;28;01massert\u001b[39;00m num\u001b[38;5;241m>\u001b[39m\u001b[38;5;241m10\u001b[39m\n",
      "\u001b[1;31mAssertionError\u001b[0m: "
     ]
    }
   ],
   "source": [
    "num=10\n",
    "\n",
    "assert num>10"
   ]
  },
  {
   "cell_type": "code",
   "execution_count": 75,
   "id": "2b540de5",
   "metadata": {},
   "outputs": [
    {
     "name": "stdout",
     "output_type": "stream",
     "text": [
      "Enter the number 10\n",
      "The number is Even\n"
     ]
    }
   ],
   "source": [
    "try:\n",
    "    num=int(input(\"Enter the number \"))\n",
    "    assert num%2 == 0\n",
    "    print(\"The number is Even\")\n",
    "except AssertionError:\n",
    "    print(\"Please Enter the even number\")"
   ]
  },
  {
   "cell_type": "markdown",
   "id": "2ef499c1",
   "metadata": {},
   "source": [
    "# Python Generators vs Iterators"
   ]
  },
  {
   "cell_type": "code",
   "execution_count": 81,
   "id": "6cdcfbb7",
   "metadata": {},
   "outputs": [
    {
     "name": "stdout",
     "output_type": "stream",
     "text": [
      "1\n",
      "2\n",
      "3\n",
      "4\n"
     ]
    }
   ],
   "source": [
    "# iterable\n",
    "lst=[1,2,3,4]\n",
    "for i in lst:\n",
    "    print (i)"
   ]
  },
  {
   "cell_type": "code",
   "execution_count": 97,
   "id": "abbd3095",
   "metadata": {},
   "outputs": [],
   "source": [
    "# iterator\n",
    "iterable=iter(lst)"
   ]
  },
  {
   "cell_type": "code",
   "execution_count": 83,
   "id": "8d020538",
   "metadata": {},
   "outputs": [
    {
     "data": {
      "text/plain": [
       "list_iterator"
      ]
     },
     "execution_count": 83,
     "metadata": {},
     "output_type": "execute_result"
    }
   ],
   "source": [
    "type(iterable)"
   ]
  },
  {
   "cell_type": "code",
   "execution_count": 79,
   "id": "f63bd43e",
   "metadata": {},
   "outputs": [
    {
     "name": "stdout",
     "output_type": "stream",
     "text": [
      "1\n",
      "2\n",
      "3\n",
      "4\n"
     ]
    }
   ],
   "source": [
    "for i in iterable:\n",
    "    print(i)"
   ]
  },
  {
   "cell_type": "code",
   "execution_count": 98,
   "id": "991bd880",
   "metadata": {},
   "outputs": [
    {
     "data": {
      "text/plain": [
       "1"
      ]
     },
     "execution_count": 98,
     "metadata": {},
     "output_type": "execute_result"
    }
   ],
   "source": [
    "next(iterable)"
   ]
  },
  {
   "cell_type": "code",
   "execution_count": 102,
   "id": "d590d46e",
   "metadata": {},
   "outputs": [
    {
     "name": "stdout",
     "output_type": "stream",
     "text": [
      "The Iterator is empty\n"
     ]
    }
   ],
   "source": [
    "try:\n",
    "    next(iterable)\n",
    "except StopIteration:\n",
    "    print(\"The Iterator is empty\")\n",
    "    "
   ]
  },
  {
   "cell_type": "markdown",
   "id": "3760a00f",
   "metadata": {},
   "source": [
    "## Generator "
   ]
  },
  {
   "cell_type": "code",
   "execution_count": 105,
   "id": "5081ccbe",
   "metadata": {},
   "outputs": [],
   "source": [
    "def square(n):\n",
    "    for i in range(n):\n",
    "        yield i*i"
   ]
  },
  {
   "cell_type": "code",
   "execution_count": 106,
   "id": "d4d390bb",
   "metadata": {},
   "outputs": [
    {
     "data": {
      "text/plain": [
       "<generator object square at 0x00000164810C46C0>"
      ]
     },
     "execution_count": 106,
     "metadata": {},
     "output_type": "execute_result"
    }
   ],
   "source": [
    "square(3)"
   ]
  },
  {
   "cell_type": "code",
   "execution_count": 107,
   "id": "2a08fa1a",
   "metadata": {},
   "outputs": [
    {
     "name": "stdout",
     "output_type": "stream",
     "text": [
      "0\n",
      "1\n",
      "4\n"
     ]
    }
   ],
   "source": [
    "for i in square(3):\n",
    "    print(i)"
   ]
  },
  {
   "cell_type": "markdown",
   "id": "369619a7",
   "metadata": {},
   "source": [
    "## Difference between generator and iterator\n",
    "\n",
    "- To create an iterator we use iter() function and to create generator we use function along with yield keyword\n",
    "- Generator uses yield keyword. It saves the local variable value\n",
    "- Generator in python helps us to write fast and compact code \n",
    "- Python iterator is much more memory efficient\n",
    "- Next keyword is used in both (common between generator and iterator)\n",
    "\n"
   ]
  },
  {
   "cell_type": "code",
   "execution_count": 116,
   "id": "f80af4c2",
   "metadata": {},
   "outputs": [],
   "source": [
    "import types, collections\n",
    "\n",
    "from collections.abc import Iterator"
   ]
  },
  {
   "cell_type": "code",
   "execution_count": 118,
   "id": "8ba9a5dd",
   "metadata": {},
   "outputs": [
    {
     "data": {
      "text/plain": [
       "True"
      ]
     },
     "execution_count": 118,
     "metadata": {},
     "output_type": "execute_result"
    }
   ],
   "source": [
    "issubclass(types.GeneratorType,collections.abc.Iterator)"
   ]
  },
  {
   "cell_type": "markdown",
   "id": "02bed1fb",
   "metadata": {},
   "source": [
    "## Python decorators"
   ]
  },
  {
   "cell_type": "markdown",
   "id": "37b29356",
   "metadata": {},
   "source": [
    "#### Function Copy"
   ]
  },
  {
   "cell_type": "code",
   "execution_count": 119,
   "id": "a6a97f22",
   "metadata": {},
   "outputs": [],
   "source": [
    "def Welcome():\n",
    "    print(\"Welcome to the community\")"
   ]
  },
  {
   "cell_type": "code",
   "execution_count": 121,
   "id": "92449442",
   "metadata": {},
   "outputs": [
    {
     "name": "stdout",
     "output_type": "stream",
     "text": [
      "Welcome to the community\n"
     ]
    }
   ],
   "source": [
    "wel=Welcome()"
   ]
  },
  {
   "cell_type": "code",
   "execution_count": 122,
   "id": "9a160f2c",
   "metadata": {},
   "outputs": [],
   "source": [
    "wel"
   ]
  },
  {
   "cell_type": "code",
   "execution_count": 124,
   "id": "ac5fd4a8",
   "metadata": {},
   "outputs": [],
   "source": [
    "def Welcome():\n",
    "    return \"Welcome to the community\""
   ]
  },
  {
   "cell_type": "code",
   "execution_count": 127,
   "id": "c875fda1",
   "metadata": {},
   "outputs": [],
   "source": [
    "wel=Welcome()\n",
    "del Welcome"
   ]
  },
  {
   "cell_type": "code",
   "execution_count": 128,
   "id": "bbeea315",
   "metadata": {},
   "outputs": [
    {
     "data": {
      "text/plain": [
       "'Welcome to the community'"
      ]
     },
     "execution_count": 128,
     "metadata": {},
     "output_type": "execute_result"
    }
   ],
   "source": [
    "wel"
   ]
  },
  {
   "cell_type": "code",
   "execution_count": 130,
   "id": "a50bb0f2",
   "metadata": {},
   "outputs": [
    {
     "ename": "NameError",
     "evalue": "name 'Welcome' is not defined",
     "output_type": "error",
     "traceback": [
      "\u001b[1;31m---------------------------------------------------------------------------\u001b[0m",
      "\u001b[1;31mNameError\u001b[0m                                 Traceback (most recent call last)",
      "Cell \u001b[1;32mIn[130], line 1\u001b[0m\n\u001b[1;32m----> 1\u001b[0m Welcome()\n",
      "\u001b[1;31mNameError\u001b[0m: name 'Welcome' is not defined"
     ]
    }
   ],
   "source": [
    "Welcome()"
   ]
  },
  {
   "cell_type": "markdown",
   "id": "59cbd05b",
   "metadata": {},
   "source": [
    "#### Closures (function inside a function)"
   ]
  },
  {
   "cell_type": "code",
   "execution_count": 133,
   "id": "a3f1d2c0",
   "metadata": {},
   "outputs": [],
   "source": [
    "def main_welcome():\n",
    "    message=\"Hello Everyone\"\n",
    "    def sub_welcome_class():\n",
    "        print(\"Welcome to the Community\")\n",
    "        print(message)\n",
    "        print(\"Please join us for the good work\")\n",
    "    return sub_welcome_class()"
   ]
  },
  {
   "cell_type": "code",
   "execution_count": 134,
   "id": "399d060e",
   "metadata": {},
   "outputs": [
    {
     "name": "stdout",
     "output_type": "stream",
     "text": [
      "Welcome to the Community\n",
      "Hello Everyone\n",
      "Please join us for the good work\n"
     ]
    }
   ],
   "source": [
    "main_welcome()"
   ]
  },
  {
   "cell_type": "code",
   "execution_count": 137,
   "id": "973a4dc0",
   "metadata": {},
   "outputs": [],
   "source": [
    "def main_welcome(message):\n",
    "   \n",
    "    def sub_welcome_class():\n",
    "        print(\"Welcome to the Community\")\n",
    "        print(message)\n",
    "        print(\"Please join us for the good work\")\n",
    "    return sub_welcome_class()"
   ]
  },
  {
   "cell_type": "code",
   "execution_count": 138,
   "id": "3c1a1340",
   "metadata": {},
   "outputs": [
    {
     "name": "stdout",
     "output_type": "stream",
     "text": [
      "Welcome to the Community\n",
      "Neha\n",
      "Please join us for the good work\n"
     ]
    }
   ],
   "source": [
    "main_welcome(\"Neha\")"
   ]
  },
  {
   "cell_type": "code",
   "execution_count": 143,
   "id": "4d861c87",
   "metadata": {},
   "outputs": [],
   "source": [
    "def main_welcome(func):\n",
    "   \n",
    "    def sub_welcome_class():\n",
    "        print(\"Welcome to the Community\")\n",
    "        func(\"This community does the voluntary work\")\n",
    "        print(\"Please join us for the good work\")\n",
    "    return sub_welcome_class()"
   ]
  },
  {
   "cell_type": "code",
   "execution_count": 144,
   "id": "9678719a",
   "metadata": {},
   "outputs": [
    {
     "name": "stdout",
     "output_type": "stream",
     "text": [
      "Welcome to the Community\n",
      "This community does the voluntary work\n",
      "Please join us for the good work\n"
     ]
    }
   ],
   "source": [
    "main_welcome(print)"
   ]
  },
  {
   "cell_type": "code",
   "execution_count": 145,
   "id": "4ff06f0f",
   "metadata": {},
   "outputs": [],
   "source": [
    "def main_welcome(func):\n",
    "   \n",
    "    def sub_welcome_class():\n",
    "        print(\"Welcome to the Community\")\n",
    "        print(func([1,2,3,4,5,6]))\n",
    "        print(\"Please join us for the good work\")\n",
    "    return sub_welcome_class()"
   ]
  },
  {
   "cell_type": "code",
   "execution_count": 146,
   "id": "83dcd974",
   "metadata": {},
   "outputs": [
    {
     "name": "stdout",
     "output_type": "stream",
     "text": [
      "Welcome to the Community\n",
      "6\n",
      "Please join us for the good work\n"
     ]
    }
   ],
   "source": [
    "main_welcome(len)"
   ]
  },
  {
   "cell_type": "code",
   "execution_count": 147,
   "id": "02f8d538",
   "metadata": {},
   "outputs": [],
   "source": [
    "def main_welcome(func):\n",
    "   \n",
    "    def sub_welcome_class():\n",
    "        print(\"Welcome to the Community\")\n",
    "        func()\n",
    "        print(\"Please join us for the good work\")\n",
    "    return sub_welcome_class()"
   ]
  },
  {
   "cell_type": "code",
   "execution_count": 148,
   "id": "d822defc",
   "metadata": {},
   "outputs": [],
   "source": [
    "def community_name():\n",
    "    print(\"This is a good community\")"
   ]
  },
  {
   "cell_type": "code",
   "execution_count": 149,
   "id": "f354c7e3",
   "metadata": {},
   "outputs": [
    {
     "name": "stdout",
     "output_type": "stream",
     "text": [
      "Welcome to the Community\n",
      "This is a good community\n",
      "Please join us for the good work\n"
     ]
    }
   ],
   "source": [
    "main_welcome(community_name)"
   ]
  },
  {
   "cell_type": "code",
   "execution_count": 150,
   "id": "933c4f2c",
   "metadata": {},
   "outputs": [
    {
     "name": "stdout",
     "output_type": "stream",
     "text": [
      "Welcome to the Community\n",
      "This is a good community\n",
      "Please join us for the good work\n"
     ]
    }
   ],
   "source": [
    "@main_welcome\n",
    "def community_name():\n",
    "    print(\"This is a good community\")"
   ]
  },
  {
   "cell_type": "markdown",
   "id": "3a2fca2d",
   "metadata": {},
   "source": [
    "#### Revision\n",
    "\n",
    "- Suppose we define a function and the  delete the same, we get a copy of the function \n",
    "- Closuers - Functions within a function\n",
    "- We can pass functions (inbuilt) as a parameters inside the closures \n",
    "- We can also define out custom functions and pass is as a func () a parameters inside the closures \n",
    "- @decorator_name\n"
   ]
  },
  {
   "cell_type": "markdown",
   "id": "b7a73bd1",
   "metadata": {},
   "source": [
    "## Public Private And Protected Access Modifiers"
   ]
  },
  {
   "cell_type": "code",
   "execution_count": 154,
   "id": "4e6b9e03",
   "metadata": {},
   "outputs": [],
   "source": [
    "# All the classs variables are public can be accessed from anywhere\n",
    "\n",
    "class Car:\n",
    "    def __init__(self,windows, doors, engine_type): # attributes will be initialized using constructor __init__\n",
    "        self.windows=windows # self is initialized for objects \n",
    "        self.doors=doors\n",
    "        self.engine_type=engine_type  "
   ]
  },
  {
   "cell_type": "code",
   "execution_count": 155,
   "id": "fef2b5c8",
   "metadata": {},
   "outputs": [],
   "source": [
    "audi=Car(4,5,\"diesel\")"
   ]
  },
  {
   "cell_type": "code",
   "execution_count": 156,
   "id": "b083d741",
   "metadata": {},
   "outputs": [
    {
     "data": {
      "text/plain": [
       "['__class__',\n",
       " '__delattr__',\n",
       " '__dict__',\n",
       " '__dir__',\n",
       " '__doc__',\n",
       " '__eq__',\n",
       " '__format__',\n",
       " '__ge__',\n",
       " '__getattribute__',\n",
       " '__getstate__',\n",
       " '__gt__',\n",
       " '__hash__',\n",
       " '__init__',\n",
       " '__init_subclass__',\n",
       " '__le__',\n",
       " '__lt__',\n",
       " '__module__',\n",
       " '__ne__',\n",
       " '__new__',\n",
       " '__reduce__',\n",
       " '__reduce_ex__',\n",
       " '__repr__',\n",
       " '__setattr__',\n",
       " '__sizeof__',\n",
       " '__str__',\n",
       " '__subclasshook__',\n",
       " '__weakref__',\n",
       " 'doors',\n",
       " 'engine_type',\n",
       " 'windows']"
      ]
     },
     "execution_count": 156,
     "metadata": {},
     "output_type": "execute_result"
    }
   ],
   "source": [
    "dir(audi)"
   ]
  },
  {
   "cell_type": "code",
   "execution_count": 171,
   "id": "9e5bb166",
   "metadata": {},
   "outputs": [],
   "source": [
    "# All the classs variables are protected can be overwritten or accessed from subclasses\n",
    "\n",
    "class Car:\n",
    "    def __init__(self,windows, doors, engine_type): # attributes will be initialized using constructor __init__\n",
    "        self._windows=windows # self is initialized for objects \n",
    "        self._doors=doors\n",
    "        self._engine_type=engine_type  "
   ]
  },
  {
   "cell_type": "code",
   "execution_count": 172,
   "id": "a47360c7",
   "metadata": {},
   "outputs": [],
   "source": [
    "class Truck(Car):\n",
    "     def __init__(self,windows, doors, engine_type,horsepower):\n",
    "            super().__init__(windows, doors, engine_type)\n",
    "            self.horsepower=horsepower\n",
    "\n",
    "            \n",
    "    "
   ]
  },
  {
   "cell_type": "code",
   "execution_count": 173,
   "id": "620c4a36",
   "metadata": {},
   "outputs": [
    {
     "data": {
      "text/plain": [
       "['__class__',\n",
       " '__delattr__',\n",
       " '__dict__',\n",
       " '__dir__',\n",
       " '__doc__',\n",
       " '__eq__',\n",
       " '__format__',\n",
       " '__ge__',\n",
       " '__getattribute__',\n",
       " '__getstate__',\n",
       " '__gt__',\n",
       " '__hash__',\n",
       " '__init__',\n",
       " '__init_subclass__',\n",
       " '__le__',\n",
       " '__lt__',\n",
       " '__module__',\n",
       " '__ne__',\n",
       " '__new__',\n",
       " '__reduce__',\n",
       " '__reduce_ex__',\n",
       " '__repr__',\n",
       " '__setattr__',\n",
       " '__sizeof__',\n",
       " '__str__',\n",
       " '__subclasshook__',\n",
       " '__weakref__',\n",
       " '_doors',\n",
       " '_engine_type',\n",
       " '_windows',\n",
       " 'horsepower']"
      ]
     },
     "execution_count": 173,
     "metadata": {},
     "output_type": "execute_result"
    }
   ],
   "source": [
    "truck=Truck(4,4,\"diesel\",4000)\n",
    "dir(truck)"
   ]
  },
  {
   "cell_type": "code",
   "execution_count": 158,
   "id": "dabb3ccc",
   "metadata": {},
   "outputs": [],
   "source": [
    "audi=Car(2,4,'petrol')"
   ]
  },
  {
   "cell_type": "code",
   "execution_count": 159,
   "id": "8ebafe22",
   "metadata": {},
   "outputs": [
    {
     "data": {
      "text/plain": [
       "['__class__',\n",
       " '__delattr__',\n",
       " '__dict__',\n",
       " '__dir__',\n",
       " '__doc__',\n",
       " '__eq__',\n",
       " '__format__',\n",
       " '__ge__',\n",
       " '__getattribute__',\n",
       " '__getstate__',\n",
       " '__gt__',\n",
       " '__hash__',\n",
       " '__init__',\n",
       " '__init_subclass__',\n",
       " '__le__',\n",
       " '__lt__',\n",
       " '__module__',\n",
       " '__ne__',\n",
       " '__new__',\n",
       " '__reduce__',\n",
       " '__reduce_ex__',\n",
       " '__repr__',\n",
       " '__setattr__',\n",
       " '__sizeof__',\n",
       " '__str__',\n",
       " '__subclasshook__',\n",
       " '__weakref__',\n",
       " '_doors',\n",
       " '_engine_type',\n",
       " '_windows']"
      ]
     },
     "execution_count": 159,
     "metadata": {},
     "output_type": "execute_result"
    }
   ],
   "source": [
    "dir(audi)"
   ]
  },
  {
   "cell_type": "code",
   "execution_count": 174,
   "id": "a10ff10e",
   "metadata": {},
   "outputs": [
    {
     "data": {
      "text/plain": [
       "4"
      ]
     },
     "execution_count": 174,
     "metadata": {},
     "output_type": "execute_result"
    }
   ],
   "source": [
    "truck._doors"
   ]
  },
  {
   "cell_type": "code",
   "execution_count": 176,
   "id": "5797e0fc",
   "metadata": {},
   "outputs": [],
   "source": [
    "truck._doors=5"
   ]
  },
  {
   "cell_type": "code",
   "execution_count": 177,
   "id": "df80f26c",
   "metadata": {},
   "outputs": [
    {
     "data": {
      "text/plain": [
       "5"
      ]
     },
     "execution_count": 177,
     "metadata": {},
     "output_type": "execute_result"
    }
   ],
   "source": [
    "truck._doors"
   ]
  },
  {
   "cell_type": "code",
   "execution_count": 178,
   "id": "cdebf6e8",
   "metadata": {},
   "outputs": [],
   "source": [
    "#### Private Variable cannot be modified or accessed \n",
    "\n",
    "\n",
    "class Car:\n",
    "    def __init__(self,windows, doors, engine_type): # attributes will be initialized using constructor __init__\n",
    "        self.__windows=windows # self is initialized for objects \n",
    "        self.__doors=doors\n",
    "        self.__engine_type=engine_type  "
   ]
  },
  {
   "cell_type": "code",
   "execution_count": 179,
   "id": "fd6866bf",
   "metadata": {},
   "outputs": [],
   "source": [
    "audi=Car(4,4,'Petrol')"
   ]
  },
  {
   "cell_type": "code",
   "execution_count": 180,
   "id": "0a84a46b",
   "metadata": {},
   "outputs": [
    {
     "data": {
      "text/plain": [
       "['_Car__doors',\n",
       " '_Car__engine_type',\n",
       " '_Car__windows',\n",
       " '__class__',\n",
       " '__delattr__',\n",
       " '__dict__',\n",
       " '__dir__',\n",
       " '__doc__',\n",
       " '__eq__',\n",
       " '__format__',\n",
       " '__ge__',\n",
       " '__getattribute__',\n",
       " '__getstate__',\n",
       " '__gt__',\n",
       " '__hash__',\n",
       " '__init__',\n",
       " '__init_subclass__',\n",
       " '__le__',\n",
       " '__lt__',\n",
       " '__module__',\n",
       " '__ne__',\n",
       " '__new__',\n",
       " '__reduce__',\n",
       " '__reduce_ex__',\n",
       " '__repr__',\n",
       " '__setattr__',\n",
       " '__sizeof__',\n",
       " '__str__',\n",
       " '__subclasshook__',\n",
       " '__weakref__']"
      ]
     },
     "execution_count": 180,
     "metadata": {},
     "output_type": "execute_result"
    }
   ],
   "source": [
    "dir(audi)"
   ]
  },
  {
   "cell_type": "markdown",
   "id": "f4d7b99e",
   "metadata": {},
   "source": [
    "# Python Data Classes"
   ]
  },
  {
   "cell_type": "markdown",
   "id": "4295fe1d",
   "metadata": {},
   "source": [
    "- It provides a concise way to define classes intended to store data.\n",
    "- It generates several methods like init, repr and eq based on the defined class attributes\n",
    "- It simplifies the process of creating and working with data classes "
   ]
  },
  {
   "cell_type": "markdown",
   "id": "84d1243b",
   "metadata": {},
   "source": [
    " @ dataclass decorator automaticlly egnerates the following methods for us:\n",
    " \n",
    "- init(): Initializes the object and assigns the provided values to the attributes\n",
    "- repr(): Provides a string representation of the object\n",
    "- eq(): Implemetes equality comparisonbetween two objectsof the class based on their attributes\n",
    "            "
   ]
  },
  {
   "cell_type": "code",
   "execution_count": 186,
   "id": "2c536f55",
   "metadata": {},
   "outputs": [
    {
     "name": "stdout",
     "output_type": "stream",
     "text": [
      "<__main__.Person object at 0x0000016483DBD990>\n"
     ]
    }
   ],
   "source": [
    "class Person:\n",
    "    def __init__(self, name, age):\n",
    "        self.name=name\n",
    "        self.age=age\n",
    "    \n",
    "person1=Person(\"neha\",33)\n",
    "print(person1)  "
   ]
  },
  {
   "cell_type": "code",
   "execution_count": 189,
   "id": "a9d9600d",
   "metadata": {},
   "outputs": [
    {
     "name": "stdout",
     "output_type": "stream",
     "text": [
      "Person(name='Neha', age=33, profession='data scientist')\n"
     ]
    }
   ],
   "source": [
    "from dataclasses import dataclass\n",
    "\n",
    "@dataclass\n",
    "class Person:\n",
    "    name:str\n",
    "    age:int\n",
    "    profession:str\n",
    "        \n",
    "person1=Person(\"Neha\",33,\"data scientist\")\n",
    "print(person1)  "
   ]
  },
  {
   "cell_type": "code",
   "execution_count": 190,
   "id": "3d593bc5",
   "metadata": {},
   "outputs": [
    {
     "name": "stdout",
     "output_type": "stream",
     "text": [
      "Person(name='Neha', age=33, profession='Data Scientist')\n"
     ]
    }
   ],
   "source": [
    "@dataclass\n",
    "class Person:\n",
    "    name:str\n",
    "    age:int\n",
    "    profession:str=\"Data Scientist\"\n",
    "\n",
    "person1=Person(\"Neha\",33)\n",
    "print(person1)  "
   ]
  },
  {
   "cell_type": "code",
   "execution_count": 191,
   "id": "22b643b5",
   "metadata": {},
   "outputs": [],
   "source": [
    "person1.profession=\"AI Developer\""
   ]
  },
  {
   "cell_type": "code",
   "execution_count": 195,
   "id": "55661fc7",
   "metadata": {},
   "outputs": [
    {
     "name": "stdout",
     "output_type": "stream",
     "text": [
      "Person(name='Neha', age=33, profession='Data Scientist')\n"
     ]
    }
   ],
   "source": [
    "person1=Person(\"Neha\",33)\n",
    "print(person1)  "
   ]
  },
  {
   "cell_type": "markdown",
   "id": "1ff18733",
   "metadata": {},
   "source": [
    "## Immutable class"
   ]
  },
  {
   "cell_type": "code",
   "execution_count": 198,
   "id": "f53a1f22",
   "metadata": {},
   "outputs": [
    {
     "name": "stdout",
     "output_type": "stream",
     "text": [
      "Point(x=3, y=4)\n"
     ]
    }
   ],
   "source": [
    "@dataclass(frozen=True)\n",
    "\n",
    "class Point:\n",
    "    x:int\n",
    "    y:int\n",
    "point=Point(3,4)\n",
    "print(point)\n",
    "    "
   ]
  },
  {
   "cell_type": "code",
   "execution_count": 199,
   "id": "fd9a3979",
   "metadata": {},
   "outputs": [
    {
     "ename": "FrozenInstanceError",
     "evalue": "cannot assign to field 'x'",
     "output_type": "error",
     "traceback": [
      "\u001b[1;31m---------------------------------------------------------------------------\u001b[0m",
      "\u001b[1;31mFrozenInstanceError\u001b[0m                       Traceback (most recent call last)",
      "Cell \u001b[1;32mIn[199], line 1\u001b[0m\n\u001b[1;32m----> 1\u001b[0m point\u001b[38;5;241m.\u001b[39mx\u001b[38;5;241m=\u001b[39m\u001b[38;5;241m34\u001b[39m\n",
      "File \u001b[1;32m<string>:4\u001b[0m, in \u001b[0;36m__setattr__\u001b[1;34m(self, name, value)\u001b[0m\n",
      "\u001b[1;31mFrozenInstanceError\u001b[0m: cannot assign to field 'x'"
     ]
    }
   ],
   "source": [
    "point.x=34"
   ]
  },
  {
   "cell_type": "markdown",
   "id": "d542bf00",
   "metadata": {},
   "source": [
    "## Inheritance"
   ]
  },
  {
   "cell_type": "code",
   "execution_count": 208,
   "id": "89b78fae",
   "metadata": {},
   "outputs": [],
   "source": [
    "@dataclass\n",
    "class Person:\n",
    "    name:str\n",
    "    age:int\n",
    "    \n",
    "@dataclass\n",
    "class Employee(Person):\n",
    "    emp_id:str\n",
    "    dept:str\n",
    "    \n"
   ]
  },
  {
   "cell_type": "code",
   "execution_count": 209,
   "id": "0b067fdc",
   "metadata": {},
   "outputs": [],
   "source": [
    "person1=Person(\"Neha\",33)\n",
    "\n"
   ]
  },
  {
   "cell_type": "code",
   "execution_count": 211,
   "id": "d176afa7",
   "metadata": {},
   "outputs": [],
   "source": [
    "Employee1=Employee(\"Neha\",33,'123','AI')\n",
    "\n"
   ]
  },
  {
   "cell_type": "code",
   "execution_count": 212,
   "id": "5585aff8",
   "metadata": {},
   "outputs": [
    {
     "name": "stdout",
     "output_type": "stream",
     "text": [
      "Employee(name='Neha', age=33, emp_id='123', dept='AI')\n"
     ]
    }
   ],
   "source": [
    "print(Employee1)"
   ]
  },
  {
   "cell_type": "markdown",
   "id": "be416ace",
   "metadata": {},
   "source": [
    "## Nested Dataclass "
   ]
  },
  {
   "cell_type": "code",
   "execution_count": 214,
   "id": "dec0125c",
   "metadata": {},
   "outputs": [],
   "source": [
    "@dataclass\n",
    "\n",
    "class Address:\n",
    "    street:str\n",
    "    city:str\n",
    "    zipcode:str\n",
    "        \n",
    "@dataclass\n",
    "\n",
    "class Person:\n",
    "    name:str\n",
    "    age:int\n",
    "    address:Address\n",
    "\n",
    "address=Address(\"123 Main\",\"Bangalore\",'560093')\n",
    "\n",
    "person=Person(\"Neha\",33,address)"
   ]
  },
  {
   "cell_type": "code",
   "execution_count": 215,
   "id": "5608c4cf",
   "metadata": {},
   "outputs": [
    {
     "data": {
      "text/plain": [
       "Person(name='Neha', age=33, address=Address(street='123 Main', city='Bangalore', zipcode='560093'))"
      ]
     },
     "execution_count": 215,
     "metadata": {},
     "output_type": "execute_result"
    }
   ],
   "source": [
    "person"
   ]
  },
  {
   "cell_type": "code",
   "execution_count": 219,
   "id": "d8c44836",
   "metadata": {},
   "outputs": [
    {
     "data": {
      "text/plain": [
       "'123 Main'"
      ]
     },
     "execution_count": 219,
     "metadata": {},
     "output_type": "execute_result"
    }
   ],
   "source": [
    "person.address.street"
   ]
  },
  {
   "cell_type": "code",
   "execution_count": null,
   "id": "71684ed7",
   "metadata": {},
   "outputs": [],
   "source": []
  },
  {
   "cell_type": "code",
   "execution_count": null,
   "id": "5f4fa8e0",
   "metadata": {},
   "outputs": [],
   "source": []
  }
 ],
 "metadata": {
  "kernelspec": {
   "display_name": "Python 3 (ipykernel)",
   "language": "python",
   "name": "python3"
  },
  "language_info": {
   "codemirror_mode": {
    "name": "ipython",
    "version": 3
   },
   "file_extension": ".py",
   "mimetype": "text/x-python",
   "name": "python",
   "nbconvert_exporter": "python",
   "pygments_lexer": "ipython3",
   "version": "3.11.7"
  }
 },
 "nbformat": 4,
 "nbformat_minor": 5
}
