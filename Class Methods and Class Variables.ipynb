{
 "cells": [
  {
   "cell_type": "code",
   "execution_count": 2,
   "id": "cb9c4049",
   "metadata": {},
   "outputs": [],
   "source": [
    "class car():\n",
    "    base_price=100000 ## class variable\n",
    "    def __init__(self, windows, doors, enginetype, power):\n",
    "        self.windows=windows## instance variables getting created\n",
    "        self.doors=doors\n",
    "        self.enginetype=enginetype\n",
    "        self.power=power\n",
    "    def what_base_price(self):\n",
    "        print(\"The base price of the car is {}\".format(self.base_price))"
   ]
  },
  {
   "cell_type": "code",
   "execution_count": 4,
   "id": "1006e997",
   "metadata": {},
   "outputs": [
    {
     "data": {
      "text/plain": [
       "100000"
      ]
     },
     "execution_count": 4,
     "metadata": {},
     "output_type": "execute_result"
    }
   ],
   "source": [
    "car1=car(4,4,'petrol',2000)\n",
    "car1.base_price"
   ]
  },
  {
   "cell_type": "code",
   "execution_count": 5,
   "id": "f9ca1062",
   "metadata": {},
   "outputs": [
    {
     "data": {
      "text/plain": [
       "100000"
      ]
     },
     "execution_count": 5,
     "metadata": {},
     "output_type": "execute_result"
    }
   ],
   "source": [
    "car.base_price"
   ]
  },
  {
   "cell_type": "markdown",
   "id": "b6c1575c",
   "metadata": {},
   "source": [
    "# Scenario : \n",
    "\n",
    "## Add the inflation rate of 10% every year on the base price by using classmethod"
   ]
  },
  {
   "cell_type": "code",
   "execution_count": 7,
   "id": "dbcbb225",
   "metadata": {},
   "outputs": [],
   "source": [
    "class car():\n",
    "    base_price=100000 ## class variable\n",
    "    def __init__(self, windows, doors, enginetype, power):\n",
    "        self.windows=windows## instance variables getting created\n",
    "        self.doors=doors\n",
    "        self.enginetype=enginetype\n",
    "        self.power=power\n",
    "    def what_base_price(self):\n",
    "        print(\"The base price of the car is {}\".format(self.base_price))\n",
    "    @classmethod\n",
    "    def revise_base_price(cls,inflation): # refers to the main class\n",
    "        cls.base_price=cls.base_price+cls.base_price*inflation\n",
    "        "
   ]
  },
  {
   "cell_type": "code",
   "execution_count": 12,
   "id": "bb71a802",
   "metadata": {},
   "outputs": [],
   "source": [
    "car1=car(4,5,'diesel',3000)"
   ]
  },
  {
   "cell_type": "code",
   "execution_count": 13,
   "id": "7a68fff9",
   "metadata": {},
   "outputs": [
    {
     "data": {
      "text/plain": [
       "100000"
      ]
     },
     "execution_count": 13,
     "metadata": {},
     "output_type": "execute_result"
    }
   ],
   "source": [
    "car1.base_price"
   ]
  },
  {
   "cell_type": "code",
   "execution_count": 15,
   "id": "237f1020",
   "metadata": {},
   "outputs": [],
   "source": [
    "car.revise_base_price(0.10)"
   ]
  },
  {
   "cell_type": "code",
   "execution_count": 16,
   "id": "718472ec",
   "metadata": {},
   "outputs": [
    {
     "data": {
      "text/plain": [
       "110000.0"
      ]
     },
     "execution_count": 16,
     "metadata": {},
     "output_type": "execute_result"
    }
   ],
   "source": [
    "car.base_price"
   ]
  },
  {
   "cell_type": "code",
   "execution_count": 17,
   "id": "e081657b",
   "metadata": {},
   "outputs": [],
   "source": [
    "car1=car(4,5,'diesel',3000)"
   ]
  },
  {
   "cell_type": "code",
   "execution_count": 18,
   "id": "98178aa9",
   "metadata": {},
   "outputs": [
    {
     "data": {
      "text/plain": [
       "110000.0"
      ]
     },
     "execution_count": 18,
     "metadata": {},
     "output_type": "execute_result"
    }
   ],
   "source": [
    "car1.base_price"
   ]
  },
  {
   "cell_type": "markdown",
   "id": "59a0ba26",
   "metadata": {},
   "source": [
    "## Static Methods"
   ]
  },
  {
   "cell_type": "code",
   "execution_count": 20,
   "id": "bb1b457d",
   "metadata": {},
   "outputs": [],
   "source": [
    "import datetime\n",
    "now=datetime.datetime.now()"
   ]
  },
  {
   "cell_type": "code",
   "execution_count": 24,
   "id": "985bf1a0",
   "metadata": {},
   "outputs": [
    {
     "data": {
      "text/plain": [
       "2024"
      ]
     },
     "execution_count": 24,
     "metadata": {},
     "output_type": "execute_result"
    }
   ],
   "source": [
    "now.year"
   ]
  },
  {
   "cell_type": "code",
   "execution_count": 34,
   "id": "b9c7b3a4",
   "metadata": {},
   "outputs": [],
   "source": [
    "class car():\n",
    "    base_price=100000 ## class variable\n",
    "    def __init__(self, windows, doors, enginetype, power):\n",
    "        self.windows=windows## instance variables getting created\n",
    "        self.doors=doors\n",
    "        self.enginetype=enginetype\n",
    "        self.power=power\n",
    "    def what_base_price(self):\n",
    "        print(\"The base price of the car is {}\".format(self.base_price))\n",
    "    @classmethod\n",
    "    def revise_base_price(cls,inflation): # refers to the main class\n",
    "        cls.base_price=cls.base_price+cls.base_price*inflation\n",
    "    @staticmethod\n",
    "    def check_year():# don't provide instance or class parameter, we will be able to call it with the help of class, \n",
    "        #it is faster\n",
    "        if now.year==2025:\n",
    "            return True\n",
    "        else:\n",
    "            return False\n",
    "        \n",
    "        \n",
    "        "
   ]
  },
  {
   "cell_type": "code",
   "execution_count": 35,
   "id": "3d00c1f7",
   "metadata": {},
   "outputs": [
    {
     "data": {
      "text/plain": [
       "False"
      ]
     },
     "execution_count": 35,
     "metadata": {},
     "output_type": "execute_result"
    }
   ],
   "source": [
    "car.check_year()"
   ]
  },
  {
   "cell_type": "code",
   "execution_count": 36,
   "id": "d8277ed5",
   "metadata": {},
   "outputs": [],
   "source": [
    "car1=car(2,2,'diesel',2000)\n"
   ]
  },
  {
   "cell_type": "code",
   "execution_count": 39,
   "id": "fd67ac40",
   "metadata": {},
   "outputs": [],
   "source": [
    "if (car1.check_year()):\n",
    "    pass\n",
    "else:\n",
    "    car.revise_base_price(0.10)"
   ]
  },
  {
   "cell_type": "code",
   "execution_count": 38,
   "id": "2836fb05",
   "metadata": {},
   "outputs": [
    {
     "data": {
      "text/plain": [
       "110000.0"
      ]
     },
     "execution_count": 38,
     "metadata": {},
     "output_type": "execute_result"
    }
   ],
   "source": [
    "car.base_price"
   ]
  },
  {
   "cell_type": "markdown",
   "id": "e0cd1428",
   "metadata": {},
   "source": [
    "## OOPS Multiple Inheritance"
   ]
  },
  {
   "cell_type": "code",
   "execution_count": 41,
   "id": "e67f9ba0",
   "metadata": {},
   "outputs": [],
   "source": [
    "class A:\n",
    "    def method1(self):\n",
    "        print(\"A class method is called\")"
   ]
  },
  {
   "cell_type": "code",
   "execution_count": 58,
   "id": "78b0bbe5",
   "metadata": {},
   "outputs": [],
   "source": [
    "class B(A):\n",
    "    def method1(self):\n",
    "        print(\"B class method is called\")\n"
   ]
  },
  {
   "cell_type": "code",
   "execution_count": 43,
   "id": "ad16f86d",
   "metadata": {},
   "outputs": [],
   "source": [
    "class C(A):\n",
    "    def method1(self):\n",
    "        print(\"C class method is called\")"
   ]
  },
  {
   "cell_type": "code",
   "execution_count": 77,
   "id": "fbada492",
   "metadata": {},
   "outputs": [],
   "source": [
    "class D(B,C):# Multiple inheritance example\n",
    "    def method1(self):\n",
    "        print(\"D class method is called\")\n",
    "        C.method1(self)\n",
    "        B.method1(self)\n",
    "        A.method1(self)"
   ]
  },
  {
   "cell_type": "code",
   "execution_count": 63,
   "id": "43643fb2",
   "metadata": {},
   "outputs": [],
   "source": [
    "class B(A):\n",
    "    def method1(self):\n",
    "        print(\"B class method is called\")\n",
    "    def method2(self):\n",
    "        print(\"B class method2 is called\")\n"
   ]
  },
  {
   "cell_type": "code",
   "execution_count": 78,
   "id": "975c7dc7",
   "metadata": {},
   "outputs": [],
   "source": [
    "d=D()"
   ]
  },
  {
   "cell_type": "code",
   "execution_count": 61,
   "id": "fc39d3f9",
   "metadata": {},
   "outputs": [
    {
     "name": "stdout",
     "output_type": "stream",
     "text": [
      "D class method is called\n"
     ]
    }
   ],
   "source": [
    "d.method1()"
   ]
  },
  {
   "cell_type": "code",
   "execution_count": 65,
   "id": "5982e6c5",
   "metadata": {},
   "outputs": [
    {
     "name": "stdout",
     "output_type": "stream",
     "text": [
      "B class method2 is called\n"
     ]
    }
   ],
   "source": [
    "d.method2()"
   ]
  },
  {
   "cell_type": "code",
   "execution_count": 66,
   "id": "7597b2c5",
   "metadata": {},
   "outputs": [
    {
     "name": "stdout",
     "output_type": "stream",
     "text": [
      "B class method is called\n"
     ]
    }
   ],
   "source": [
    "B.method1(d)"
   ]
  },
  {
   "cell_type": "code",
   "execution_count": 68,
   "id": "3c3f9611",
   "metadata": {},
   "outputs": [
    {
     "name": "stdout",
     "output_type": "stream",
     "text": [
      "C class method is called\n"
     ]
    }
   ],
   "source": [
    "C.method1(d)"
   ]
  },
  {
   "cell_type": "code",
   "execution_count": 69,
   "id": "2ae10874",
   "metadata": {},
   "outputs": [
    {
     "name": "stdout",
     "output_type": "stream",
     "text": [
      "A class method is called\n"
     ]
    }
   ],
   "source": [
    "A.method1(d)"
   ]
  },
  {
   "cell_type": "code",
   "execution_count": 79,
   "id": "c1242f86",
   "metadata": {},
   "outputs": [
    {
     "name": "stdout",
     "output_type": "stream",
     "text": [
      "D class method is called\n",
      "C class method is called\n",
      "B class method is called\n",
      "A class method is called\n"
     ]
    }
   ],
   "source": [
    "d.method1()"
   ]
  },
  {
   "cell_type": "code",
   "execution_count": null,
   "id": "3052bd3a",
   "metadata": {},
   "outputs": [],
   "source": []
  },
  {
   "cell_type": "code",
   "execution_count": null,
   "id": "6e846855",
   "metadata": {},
   "outputs": [],
   "source": []
  },
  {
   "cell_type": "code",
   "execution_count": null,
   "id": "d329d6d5",
   "metadata": {},
   "outputs": [],
   "source": []
  },
  {
   "cell_type": "code",
   "execution_count": null,
   "id": "75600163",
   "metadata": {},
   "outputs": [],
   "source": []
  },
  {
   "cell_type": "code",
   "execution_count": null,
   "id": "a9d8b5ad",
   "metadata": {},
   "outputs": [],
   "source": []
  },
  {
   "cell_type": "code",
   "execution_count": null,
   "id": "3e2c7d9d",
   "metadata": {},
   "outputs": [],
   "source": []
  },
  {
   "cell_type": "code",
   "execution_count": null,
   "id": "5bf4fbf3",
   "metadata": {},
   "outputs": [],
   "source": []
  },
  {
   "cell_type": "code",
   "execution_count": null,
   "id": "9f2aa5d4",
   "metadata": {},
   "outputs": [],
   "source": []
  }
 ],
 "metadata": {
  "kernelspec": {
   "display_name": "Python 3 (ipykernel)",
   "language": "python",
   "name": "python3"
  },
  "language_info": {
   "codemirror_mode": {
    "name": "ipython",
    "version": 3
   },
   "file_extension": ".py",
   "mimetype": "text/x-python",
   "name": "python",
   "nbconvert_exporter": "python",
   "pygments_lexer": "ipython3",
   "version": "3.11.7"
  }
 },
 "nbformat": 4,
 "nbformat_minor": 5
}
