{
 "cells": [
  {
   "cell_type": "markdown",
   "id": "c0148572",
   "metadata": {},
   "source": [
    "# Various DataTypes in Python "
   ]
  },
  {
   "cell_type": "markdown",
   "id": "af7c6bad",
   "metadata": {},
   "source": [
    "- Numbers\n",
    "- Intergers\n",
    "- Float\n",
    "- Strings\n"
   ]
  },
  {
   "cell_type": "code",
   "execution_count": null,
   "id": "856d13f6",
   "metadata": {},
   "outputs": [],
   "source": [
    "#  Numbers"
   ]
  },
  {
   "cell_type": "code",
   "execution_count": 1,
   "id": "285d955d",
   "metadata": {},
   "outputs": [
    {
     "data": {
      "text/plain": [
       "2"
      ]
     },
     "execution_count": 1,
     "metadata": {},
     "output_type": "execute_result"
    }
   ],
   "source": [
    "1+1\n"
   ]
  },
  {
   "cell_type": "code",
   "execution_count": 2,
   "id": "ea161e12",
   "metadata": {},
   "outputs": [
    {
     "data": {
      "text/plain": [
       "5"
      ]
     },
     "execution_count": 2,
     "metadata": {},
     "output_type": "execute_result"
    }
   ],
   "source": [
    "10-5"
   ]
  },
  {
   "cell_type": "code",
   "execution_count": 3,
   "id": "f6f919da",
   "metadata": {},
   "outputs": [
    {
     "data": {
      "text/plain": [
       "30"
      ]
     },
     "execution_count": 3,
     "metadata": {},
     "output_type": "execute_result"
    }
   ],
   "source": [
    "2* 15\n"
   ]
  },
  {
   "cell_type": "code",
   "execution_count": 4,
   "id": "57ed8bb1",
   "metadata": {},
   "outputs": [
    {
     "data": {
      "text/plain": [
       "2.0"
      ]
     },
     "execution_count": 4,
     "metadata": {},
     "output_type": "execute_result"
    }
   ],
   "source": [
    "12/6"
   ]
  },
  {
   "cell_type": "code",
   "execution_count": 5,
   "id": "71d4dda8",
   "metadata": {},
   "outputs": [
    {
     "data": {
      "text/plain": [
       "0"
      ]
     },
     "execution_count": 5,
     "metadata": {},
     "output_type": "execute_result"
    }
   ],
   "source": [
    "10%2"
   ]
  },
  {
   "cell_type": "code",
   "execution_count": 7,
   "id": "7882ef2c",
   "metadata": {},
   "outputs": [
    {
     "data": {
      "text/plain": [
       "1000"
      ]
     },
     "execution_count": 7,
     "metadata": {},
     "output_type": "execute_result"
    }
   ],
   "source": [
    "10**3"
   ]
  },
  {
   "cell_type": "code",
   "execution_count": 8,
   "id": "e0befe93",
   "metadata": {},
   "outputs": [
    {
     "data": {
      "text/plain": [
       "'HappyHappyHappyHappyHappyHappyHappyHappyHappyHappy'"
      ]
     },
     "execution_count": 8,
     "metadata": {},
     "output_type": "execute_result"
    }
   ],
   "source": [
    "10 *'Happy'"
   ]
  },
  {
   "cell_type": "markdown",
   "id": "d38b011b",
   "metadata": {},
   "source": [
    "# In-Built Function"
   ]
  },
  {
   "cell_type": "code",
   "execution_count": 9,
   "id": "5cc8fb09",
   "metadata": {},
   "outputs": [
    {
     "data": {
      "text/plain": [
       "int"
      ]
     },
     "execution_count": 9,
     "metadata": {},
     "output_type": "execute_result"
    }
   ],
   "source": [
    "type(1)"
   ]
  },
  {
   "cell_type": "code",
   "execution_count": 11,
   "id": "ca01d57f",
   "metadata": {},
   "outputs": [
    {
     "data": {
      "text/plain": [
       "str"
      ]
     },
     "execution_count": 11,
     "metadata": {},
     "output_type": "execute_result"
    }
   ],
   "source": [
    "type('Happy')"
   ]
  },
  {
   "cell_type": "code",
   "execution_count": 12,
   "id": "e96af46a",
   "metadata": {},
   "outputs": [
    {
     "data": {
      "text/plain": [
       "str"
      ]
     },
     "execution_count": 12,
     "metadata": {},
     "output_type": "execute_result"
    }
   ],
   "source": [
    "type('2')"
   ]
  },
  {
   "cell_type": "code",
   "execution_count": 13,
   "id": "ef543b09",
   "metadata": {},
   "outputs": [
    {
     "data": {
      "text/plain": [
       "float"
      ]
     },
     "execution_count": 13,
     "metadata": {},
     "output_type": "execute_result"
    }
   ],
   "source": [
    "type(3.0)"
   ]
  },
  {
   "cell_type": "code",
   "execution_count": 16,
   "id": "2e89003c",
   "metadata": {},
   "outputs": [
    {
     "data": {
      "text/plain": [
       "bool"
      ]
     },
     "execution_count": 16,
     "metadata": {},
     "output_type": "execute_result"
    }
   ],
   "source": [
    "type(True)"
   ]
  },
  {
   "cell_type": "code",
   "execution_count": 18,
   "id": "79e6f0e2",
   "metadata": {},
   "outputs": [
    {
     "data": {
      "text/plain": [
       "bool"
      ]
     },
     "execution_count": 18,
     "metadata": {},
     "output_type": "execute_result"
    }
   ],
   "source": [
    "type(False)"
   ]
  },
  {
   "cell_type": "markdown",
   "id": "89c00e0c",
   "metadata": {},
   "source": [
    "# Strings"
   ]
  },
  {
   "cell_type": "code",
   "execution_count": 19,
   "id": "56b834cf",
   "metadata": {},
   "outputs": [
    {
     "data": {
      "text/plain": [
       "'Hello'"
      ]
     },
     "execution_count": 19,
     "metadata": {},
     "output_type": "execute_result"
    }
   ],
   "source": [
    "\"Hello\""
   ]
  },
  {
   "cell_type": "code",
   "execution_count": 20,
   "id": "5684be08",
   "metadata": {},
   "outputs": [
    {
     "data": {
      "text/plain": [
       "'Neha Tiwari'"
      ]
     },
     "execution_count": 20,
     "metadata": {},
     "output_type": "execute_result"
    }
   ],
   "source": [
    "'Neha Tiwari'"
   ]
  },
  {
   "cell_type": "code",
   "execution_count": 21,
   "id": "522f9e6f",
   "metadata": {},
   "outputs": [
    {
     "data": {
      "text/plain": [
       "str"
      ]
     },
     "execution_count": 21,
     "metadata": {},
     "output_type": "execute_result"
    }
   ],
   "source": [
    "type('Neha Tiwari')"
   ]
  },
  {
   "cell_type": "code",
   "execution_count": 22,
   "id": "79cea30c",
   "metadata": {},
   "outputs": [
    {
     "data": {
      "text/plain": [
       "str"
      ]
     },
     "execution_count": 22,
     "metadata": {},
     "output_type": "execute_result"
    }
   ],
   "source": [
    "type(\"Hello\")"
   ]
  },
  {
   "cell_type": "markdown",
   "id": "366d880f",
   "metadata": {},
   "source": [
    "# Variable Assignment"
   ]
  },
  {
   "cell_type": "code",
   "execution_count": 24,
   "id": "887ec521",
   "metadata": {},
   "outputs": [],
   "source": [
    "a=10\n",
    "b=1"
   ]
  },
  {
   "cell_type": "code",
   "execution_count": 25,
   "id": "0355a005",
   "metadata": {},
   "outputs": [
    {
     "data": {
      "text/plain": [
       "int"
      ]
     },
     "execution_count": 25,
     "metadata": {},
     "output_type": "execute_result"
    }
   ],
   "source": [
    "type(a)"
   ]
  },
  {
   "cell_type": "code",
   "execution_count": null,
   "id": "b95ca960",
   "metadata": {},
   "outputs": [],
   "source": [
    "a='Neha Tiwari'"
   ]
  },
  {
   "cell_type": "code",
   "execution_count": 26,
   "id": "7472acd5",
   "metadata": {},
   "outputs": [
    {
     "data": {
      "text/plain": [
       "int"
      ]
     },
     "execution_count": 26,
     "metadata": {},
     "output_type": "execute_result"
    }
   ],
   "source": [
    "type(a)"
   ]
  },
  {
   "cell_type": "code",
   "execution_count": 28,
   "id": "6ce6b9ad",
   "metadata": {},
   "outputs": [],
   "source": [
    "a=10\n",
    "b=30"
   ]
  },
  {
   "cell_type": "code",
   "execution_count": 30,
   "id": "dfb05f50",
   "metadata": {},
   "outputs": [
    {
     "name": "stdout",
     "output_type": "stream",
     "text": [
      "40\n",
      "-20\n",
      "300\n",
      "3.0\n",
      "0\n",
      "590490000000000\n",
      "300.3333333333333\n"
     ]
    }
   ],
   "source": [
    "print(a+b)\n",
    "print(a-b)\n",
    "print(a*b)\n",
    "print(b/a)\n",
    "print(b%a)\n",
    "print(b**a)\n",
    "print((a*b)+(a/b)) # BODMAS RULE IS FOLLOWED"
   ]
  },
  {
   "cell_type": "markdown",
   "id": "70b226a5",
   "metadata": {},
   "source": [
    "# Printing"
   ]
  },
  {
   "cell_type": "code",
   "execution_count": 31,
   "id": "0dec77e6",
   "metadata": {},
   "outputs": [
    {
     "name": "stdout",
     "output_type": "stream",
     "text": [
      "Hello\n"
     ]
    }
   ],
   "source": [
    "print(\"Hello\") # before bracket press shift +tab keys to know about the in-built function"
   ]
  },
  {
   "cell_type": "code",
   "execution_count": 32,
   "id": "157dacb8",
   "metadata": {},
   "outputs": [],
   "source": [
    "First_Name='Neha'\n",
    "Last_Name='Tiwari'"
   ]
  },
  {
   "cell_type": "code",
   "execution_count": 34,
   "id": "e8bd2dee",
   "metadata": {},
   "outputs": [
    {
     "name": "stdout",
     "output_type": "stream",
     "text": [
      "My first name is Neha and last name is Tiwari\n"
     ]
    }
   ],
   "source": [
    "print(\"My first name is {} and last name is {}\".format(First_Name,Last_Name))"
   ]
  },
  {
   "cell_type": "code",
   "execution_count": 36,
   "id": "21067f27",
   "metadata": {},
   "outputs": [
    {
     "name": "stdout",
     "output_type": "stream",
     "text": [
      "My first name is Neha and last name is Tiwari\n"
     ]
    }
   ],
   "source": [
    "print(\"My first name is {First} and last name is {Last}\".format(First=First_Name, Last=Last_Name))"
   ]
  },
  {
   "cell_type": "code",
   "execution_count": 38,
   "id": "b7303e07",
   "metadata": {},
   "outputs": [
    {
     "data": {
      "text/plain": [
       "4"
      ]
     },
     "execution_count": 38,
     "metadata": {},
     "output_type": "execute_result"
    }
   ],
   "source": [
    "len(\"Neha\")"
   ]
  },
  {
   "cell_type": "code",
   "execution_count": 40,
   "id": "7f9b4f8a",
   "metadata": {},
   "outputs": [
    {
     "data": {
      "text/plain": [
       "list"
      ]
     },
     "execution_count": 40,
     "metadata": {},
     "output_type": "execute_result"
    }
   ],
   "source": [
    "type(['apple','mango',2,True])"
   ]
  }
 ],
 "metadata": {
  "kernelspec": {
   "display_name": "Python 3 (ipykernel)",
   "language": "python",
   "name": "python3"
  },
  "language_info": {
   "codemirror_mode": {
    "name": "ipython",
    "version": 3
   },
   "file_extension": ".py",
   "mimetype": "text/x-python",
   "name": "python",
   "nbconvert_exporter": "python",
   "pygments_lexer": "ipython3",
   "version": "3.11.7"
  }
 },
 "nbformat": 4,
 "nbformat_minor": 5
}
