{
 "cells": [
  {
   "cell_type": "code",
   "execution_count": 1,
   "id": "4a0484fd",
   "metadata": {},
   "outputs": [
    {
     "name": "stdout",
     "output_type": "stream",
     "text": [
      "Odd Number\n"
     ]
    }
   ],
   "source": [
    "num=33\n",
    "\n",
    "if num%2 ==0:\n",
    "    print (\"The number is Even\")\n",
    "else:\n",
    "    print (\"Odd Number\")"
   ]
  },
  {
   "cell_type": "code",
   "execution_count": 2,
   "id": "8c64e484",
   "metadata": {},
   "outputs": [],
   "source": [
    "def even_odd(num):\n",
    "    if num%2 ==0:\n",
    "        print (\"The number is Even\")\n",
    "        \n",
    "    else:\n",
    "        print (\"Odd Number\")\n",
    "    "
   ]
  },
  {
   "cell_type": "code",
   "execution_count": 3,
   "id": "f5fc2d80",
   "metadata": {},
   "outputs": [
    {
     "name": "stdout",
     "output_type": "stream",
     "text": [
      "The number is Even\n"
     ]
    }
   ],
   "source": [
    "even_odd(34)"
   ]
  },
  {
   "cell_type": "code",
   "execution_count": 4,
   "id": "d0a3ff93",
   "metadata": {},
   "outputs": [
    {
     "name": "stdout",
     "output_type": "stream",
     "text": [
      "The number is Even\n"
     ]
    }
   ],
   "source": [
    "even_odd(30)"
   ]
  },
  {
   "cell_type": "code",
   "execution_count": 5,
   "id": "60af11c4",
   "metadata": {},
   "outputs": [
    {
     "name": "stdout",
     "output_type": "stream",
     "text": [
      "The number is Even\n"
     ]
    }
   ],
   "source": [
    "even_odd(30)"
   ]
  },
  {
   "cell_type": "code",
   "execution_count": 6,
   "id": "ec913c2b",
   "metadata": {},
   "outputs": [],
   "source": [
    "def hello_World():\n",
    "    print(\"Welcome\")"
   ]
  },
  {
   "cell_type": "code",
   "execution_count": 7,
   "id": "82aeb3ae",
   "metadata": {},
   "outputs": [
    {
     "name": "stdout",
     "output_type": "stream",
     "text": [
      "Welcome\n"
     ]
    }
   ],
   "source": [
    "hello_World()"
   ]
  },
  {
   "cell_type": "code",
   "execution_count": 8,
   "id": "ff622368",
   "metadata": {},
   "outputs": [
    {
     "name": "stdout",
     "output_type": "stream",
     "text": [
      "Welcome\n"
     ]
    }
   ],
   "source": [
    "val=hello_World()\n"
   ]
  },
  {
   "cell_type": "code",
   "execution_count": 9,
   "id": "846b65f7",
   "metadata": {},
   "outputs": [
    {
     "name": "stdout",
     "output_type": "stream",
     "text": [
      "None\n"
     ]
    }
   ],
   "source": [
    "print(val)"
   ]
  },
  {
   "cell_type": "code",
   "execution_count": 10,
   "id": "7869fbe4",
   "metadata": {},
   "outputs": [],
   "source": [
    "def hello_World():\n",
    "    return \"Welcome\""
   ]
  },
  {
   "cell_type": "code",
   "execution_count": 11,
   "id": "b832903f",
   "metadata": {},
   "outputs": [],
   "source": [
    "val=hello_World()"
   ]
  },
  {
   "cell_type": "code",
   "execution_count": 13,
   "id": "3b23498d",
   "metadata": {},
   "outputs": [
    {
     "name": "stdout",
     "output_type": "stream",
     "text": [
      "Welcome\n"
     ]
    }
   ],
   "source": [
    "print(val)"
   ]
  },
  {
   "cell_type": "code",
   "execution_count": 14,
   "id": "5a83fbd4",
   "metadata": {},
   "outputs": [],
   "source": [
    "def add_number(num1, num2):\n",
    "    return num1+num2\n"
   ]
  },
  {
   "cell_type": "code",
   "execution_count": 15,
   "id": "81e465e8",
   "metadata": {},
   "outputs": [],
   "source": [
    "val=add_number(20,40)"
   ]
  },
  {
   "cell_type": "code",
   "execution_count": 16,
   "id": "caa1b854",
   "metadata": {},
   "outputs": [
    {
     "data": {
      "text/plain": [
       "60"
      ]
     },
     "execution_count": 16,
     "metadata": {},
     "output_type": "execute_result"
    }
   ],
   "source": [
    "val"
   ]
  },
  {
   "cell_type": "code",
   "execution_count": 18,
   "id": "dadc00e7",
   "metadata": {},
   "outputs": [],
   "source": [
    "def hello(name, age=33):\n",
    "    print(\"My name is {} and age is {}\".format(name, age))"
   ]
  },
  {
   "cell_type": "code",
   "execution_count": 19,
   "id": "f0c6fb87",
   "metadata": {},
   "outputs": [
    {
     "name": "stdout",
     "output_type": "stream",
     "text": [
      "My name is Neha and age is 33\n"
     ]
    }
   ],
   "source": [
    "hello(\"Neha\") # age is keyword argument and name is positional argument "
   ]
  },
  {
   "cell_type": "code",
   "execution_count": 20,
   "id": "27d453dd",
   "metadata": {},
   "outputs": [
    {
     "ename": "TypeError",
     "evalue": "hello() missing 1 required positional argument: 'name'",
     "output_type": "error",
     "traceback": [
      "\u001b[1;31m---------------------------------------------------------------------------\u001b[0m",
      "\u001b[1;31mTypeError\u001b[0m                                 Traceback (most recent call last)",
      "Cell \u001b[1;32mIn[20], line 1\u001b[0m\n\u001b[1;32m----> 1\u001b[0m hello ()\n",
      "\u001b[1;31mTypeError\u001b[0m: hello() missing 1 required positional argument: 'name'"
     ]
    }
   ],
   "source": [
    "hello()"
   ]
  },
  {
   "cell_type": "code",
   "execution_count": 26,
   "id": "f98b5d01",
   "metadata": {},
   "outputs": [],
   "source": [
    "def hello(*args, **kwargs):\n",
    "    print(args)\n",
    "    print(kwargs)"
   ]
  },
  {
   "cell_type": "code",
   "execution_count": 27,
   "id": "5e9558d7",
   "metadata": {},
   "outputs": [
    {
     "name": "stdout",
     "output_type": "stream",
     "text": [
      "('Neha', 'Tiwari')\n",
      "{'age': 33, 'dob': 1990}\n"
     ]
    }
   ],
   "source": [
    "hello(\"Neha\",\"Tiwari\",age=33, dob=1990)"
   ]
  },
  {
   "cell_type": "code",
   "execution_count": 28,
   "id": "a6801672",
   "metadata": {},
   "outputs": [],
   "source": [
    "lst=['Neha', 'Tiwari']\n",
    "dict_args={'age': 33, 'dob': 1990}"
   ]
  },
  {
   "cell_type": "code",
   "execution_count": 29,
   "id": "d63b0974",
   "metadata": {},
   "outputs": [
    {
     "name": "stdout",
     "output_type": "stream",
     "text": [
      "(['Neha', 'Tiwari'], {'age': 33, 'dob': 1990})\n",
      "{}\n"
     ]
    }
   ],
   "source": [
    "hello(lst, dict_args)"
   ]
  },
  {
   "cell_type": "code",
   "execution_count": 30,
   "id": "c06051b8",
   "metadata": {},
   "outputs": [
    {
     "name": "stdout",
     "output_type": "stream",
     "text": [
      "('Neha', 'Tiwari')\n",
      "{'age': 33, 'dob': 1990}\n"
     ]
    }
   ],
   "source": [
    "hello(*lst, **dict_args)"
   ]
  },
  {
   "cell_type": "code",
   "execution_count": 37,
   "id": "5ada4ba5",
   "metadata": {},
   "outputs": [],
   "source": [
    "lst=[1,2,3,4,5,6,7]"
   ]
  },
  {
   "cell_type": "code",
   "execution_count": 38,
   "id": "a7fbbea9",
   "metadata": {},
   "outputs": [],
   "source": [
    "def even_odd_sum(lst):\n",
    "    even_sum=0\n",
    "    odd_sum=0\n",
    "    for i in lst:\n",
    "        if i%2==0:\n",
    "            even_sum=even_sum+i\n",
    "        else:\n",
    "            odd_sum=odd_sum+i\n",
    "    return even_sum, odd_sum"
   ]
  },
  {
   "cell_type": "code",
   "execution_count": 39,
   "id": "82a7ab7a",
   "metadata": {},
   "outputs": [
    {
     "data": {
      "text/plain": [
       "(12, 16)"
      ]
     },
     "execution_count": 39,
     "metadata": {},
     "output_type": "execute_result"
    }
   ],
   "source": [
    "even_odd_sum(lst)"
   ]
  },
  {
   "cell_type": "markdown",
   "id": "ffdbfecb",
   "metadata": {},
   "source": [
    "# Lambda Functions also k/a Annonymous functions ( function with no name)"
   ]
  },
  {
   "cell_type": "code",
   "execution_count": 41,
   "id": "c855b61b",
   "metadata": {},
   "outputs": [],
   "source": [
    "def add (a,b):\n",
    "    return a+b"
   ]
  },
  {
   "cell_type": "code",
   "execution_count": 42,
   "id": "cf1e9507",
   "metadata": {},
   "outputs": [
    {
     "data": {
      "text/plain": [
       "9"
      ]
     },
     "execution_count": 42,
     "metadata": {},
     "output_type": "execute_result"
    }
   ],
   "source": [
    "add(4,5)"
   ]
  },
  {
   "cell_type": "markdown",
   "id": "4b4b3689",
   "metadata": {},
   "source": [
    "### if we have a single expression inside a function this can be converted into lambda function"
   ]
  },
  {
   "cell_type": "code",
   "execution_count": 44,
   "id": "0e1a68fd",
   "metadata": {},
   "outputs": [],
   "source": [
    "add=lambda a,b:a+b\n",
    "    "
   ]
  },
  {
   "cell_type": "code",
   "execution_count": 45,
   "id": "118e092c",
   "metadata": {},
   "outputs": [
    {
     "data": {
      "text/plain": [
       "25"
      ]
     },
     "execution_count": 45,
     "metadata": {},
     "output_type": "execute_result"
    }
   ],
   "source": [
    "add(12,13)"
   ]
  },
  {
   "cell_type": "code",
   "execution_count": 51,
   "id": "2169ead9",
   "metadata": {},
   "outputs": [],
   "source": [
    "def even(num):\n",
    "    if num%2 == 0:\n",
    "        return True\n"
   ]
  },
  {
   "cell_type": "code",
   "execution_count": 53,
   "id": "ecf5f74e",
   "metadata": {},
   "outputs": [
    {
     "data": {
      "text/plain": [
       "True"
      ]
     },
     "execution_count": 53,
     "metadata": {},
     "output_type": "execute_result"
    }
   ],
   "source": [
    "even(22)"
   ]
  },
  {
   "cell_type": "code",
   "execution_count": 56,
   "id": "7081db89",
   "metadata": {},
   "outputs": [],
   "source": [
    "even2=lambda a:a%2==0"
   ]
  },
  {
   "cell_type": "code",
   "execution_count": 57,
   "id": "422326c7",
   "metadata": {},
   "outputs": [
    {
     "data": {
      "text/plain": [
       "False"
      ]
     },
     "execution_count": 57,
     "metadata": {},
     "output_type": "execute_result"
    }
   ],
   "source": [
    "even2(23)"
   ]
  },
  {
   "cell_type": "code",
   "execution_count": 59,
   "id": "3cce1ec9",
   "metadata": {},
   "outputs": [],
   "source": [
    "def add(x,y,z):\n",
    "    return x+y+z"
   ]
  },
  {
   "cell_type": "code",
   "execution_count": 60,
   "id": "7492691a",
   "metadata": {},
   "outputs": [
    {
     "data": {
      "text/plain": [
       "9"
      ]
     },
     "execution_count": 60,
     "metadata": {},
     "output_type": "execute_result"
    }
   ],
   "source": [
    "add(2,3,4)"
   ]
  },
  {
   "cell_type": "code",
   "execution_count": 61,
   "id": "022afad8",
   "metadata": {},
   "outputs": [],
   "source": [
    "addition=lambda x,y,z:x+y+z"
   ]
  },
  {
   "cell_type": "code",
   "execution_count": 62,
   "id": "0d45dfb7",
   "metadata": {},
   "outputs": [
    {
     "data": {
      "text/plain": [
       "9"
      ]
     },
     "execution_count": 62,
     "metadata": {},
     "output_type": "execute_result"
    }
   ],
   "source": [
    "addition(2,3,4)"
   ]
  },
  {
   "cell_type": "markdown",
   "id": "084cf115",
   "metadata": {},
   "source": [
    "# Map Function in Python "
   ]
  },
  {
   "cell_type": "code",
   "execution_count": 63,
   "id": "c79f19e9",
   "metadata": {},
   "outputs": [],
   "source": [
    "def even_odd(num):\n",
    "    if num%2 == 0:\n",
    "        return \"The number {} is Even\".format(num)\n",
    "    else:\n",
    "        return \"The number {} is Odd\".format(num)"
   ]
  },
  {
   "cell_type": "code",
   "execution_count": 64,
   "id": "6a7d0a38",
   "metadata": {},
   "outputs": [
    {
     "data": {
      "text/plain": [
       "'The number 22 is Even'"
      ]
     },
     "execution_count": 64,
     "metadata": {},
     "output_type": "execute_result"
    }
   ],
   "source": [
    "even_odd(22)"
   ]
  },
  {
   "cell_type": "code",
   "execution_count": 65,
   "id": "ed628632",
   "metadata": {},
   "outputs": [],
   "source": [
    "lst=[1,2,4,6,5,47,8,9,10, 24, 57,98,100]"
   ]
  },
  {
   "cell_type": "code",
   "execution_count": 67,
   "id": "34187b5f",
   "metadata": {},
   "outputs": [
    {
     "data": {
      "text/plain": [
       "['The number 1 is Odd',\n",
       " 'The number 2 is Even',\n",
       " 'The number 4 is Even',\n",
       " 'The number 6 is Even',\n",
       " 'The number 5 is Odd',\n",
       " 'The number 47 is Odd',\n",
       " 'The number 8 is Even',\n",
       " 'The number 9 is Odd',\n",
       " 'The number 10 is Even',\n",
       " 'The number 24 is Even',\n",
       " 'The number 57 is Odd',\n",
       " 'The number 98 is Even',\n",
       " 'The number 100 is Even']"
      ]
     },
     "execution_count": 67,
     "metadata": {},
     "output_type": "execute_result"
    }
   ],
   "source": [
    "list(map(even_odd,lst))"
   ]
  },
  {
   "cell_type": "markdown",
   "id": "8e257cba",
   "metadata": {},
   "source": [
    "# Filter function in Python "
   ]
  },
  {
   "cell_type": "code",
   "execution_count": 68,
   "id": "446a4630",
   "metadata": {},
   "outputs": [],
   "source": [
    "def even(num):\n",
    "    if num%2 == 0:\n",
    "        return True\n"
   ]
  },
  {
   "cell_type": "code",
   "execution_count": 69,
   "id": "d6466532",
   "metadata": {},
   "outputs": [],
   "source": [
    "lst=[1,2,3,4,6,7,8,80,10]"
   ]
  },
  {
   "cell_type": "code",
   "execution_count": 71,
   "id": "0d71591f",
   "metadata": {},
   "outputs": [
    {
     "data": {
      "text/plain": [
       "[2, 4, 6, 8, 80, 10]"
      ]
     },
     "execution_count": 71,
     "metadata": {},
     "output_type": "execute_result"
    }
   ],
   "source": [
    "list(filter(even,lst))"
   ]
  },
  {
   "cell_type": "code",
   "execution_count": 72,
   "id": "4e252cb6",
   "metadata": {},
   "outputs": [
    {
     "data": {
      "text/plain": [
       "[2, 4, 6, 8, 80, 10]"
      ]
     },
     "execution_count": 72,
     "metadata": {},
     "output_type": "execute_result"
    }
   ],
   "source": [
    "list(filter(lambda num:num%2==0, lst))"
   ]
  },
  {
   "cell_type": "code",
   "execution_count": 73,
   "id": "936a566d",
   "metadata": {},
   "outputs": [
    {
     "data": {
      "text/plain": [
       "[False, True, False, True, True, False, True, True, True]"
      ]
     },
     "execution_count": 73,
     "metadata": {},
     "output_type": "execute_result"
    }
   ],
   "source": [
    "list(map(lambda num:num%2==0, lst))"
   ]
  },
  {
   "cell_type": "markdown",
   "id": "0219ab69",
   "metadata": {},
   "source": [
    "# List Comprehension"
   ]
  },
  {
   "cell_type": "code",
   "execution_count": 75,
   "id": "318f344a",
   "metadata": {},
   "outputs": [],
   "source": [
    "lst1=[]\n",
    "def lst_square(lst):\n",
    "    for i in lst:\n",
    "        lst1.append(i*i)\n",
    "    return lst1"
   ]
  },
  {
   "cell_type": "code",
   "execution_count": 76,
   "id": "13444dc2",
   "metadata": {},
   "outputs": [
    {
     "data": {
      "text/plain": [
       "[1, 4, 9, 16, 25, 36, 49, 64, 81]"
      ]
     },
     "execution_count": 76,
     "metadata": {},
     "output_type": "execute_result"
    }
   ],
   "source": [
    "lst_square([1,2,3,4,5,6,7,8,9])"
   ]
  },
  {
   "cell_type": "code",
   "execution_count": 87,
   "id": "9f0b0331",
   "metadata": {},
   "outputs": [],
   "source": [
    "lst=[1,2,3,4,5,6]\n"
   ]
  },
  {
   "cell_type": "code",
   "execution_count": 88,
   "id": "5575f157",
   "metadata": {},
   "outputs": [],
   "source": [
    "list1=[i*i for i in lst if i%2==0] "
   ]
  },
  {
   "cell_type": "code",
   "execution_count": 89,
   "id": "579f148c",
   "metadata": {},
   "outputs": [
    {
     "name": "stdout",
     "output_type": "stream",
     "text": [
      "[4, 16, 36]\n"
     ]
    }
   ],
   "source": [
    "print(list1)"
   ]
  },
  {
   "cell_type": "code",
   "execution_count": 90,
   "id": "78f72668",
   "metadata": {},
   "outputs": [],
   "source": [
    "list1=[i*i for i in lst if i%2!=0] "
   ]
  },
  {
   "cell_type": "code",
   "execution_count": 91,
   "id": "8721024e",
   "metadata": {},
   "outputs": [
    {
     "name": "stdout",
     "output_type": "stream",
     "text": [
      "[1, 9, 25]\n"
     ]
    }
   ],
   "source": [
    "print(list1)"
   ]
  },
  {
   "cell_type": "markdown",
   "id": "9ceae63a",
   "metadata": {},
   "source": [
    "# String Formatting in Python"
   ]
  },
  {
   "cell_type": "code",
   "execution_count": 92,
   "id": "9c9aaf2f",
   "metadata": {},
   "outputs": [
    {
     "name": "stdout",
     "output_type": "stream",
     "text": [
      "hello world\n"
     ]
    }
   ],
   "source": [
    "print(\"hello world\")"
   ]
  },
  {
   "cell_type": "code",
   "execution_count": 98,
   "id": "286ff75d",
   "metadata": {},
   "outputs": [],
   "source": [
    "def greeting(name):\n",
    "    return \"Hello {}.Welcometo the community\".format(name)"
   ]
  },
  {
   "cell_type": "code",
   "execution_count": 99,
   "id": "3a3f1b92",
   "metadata": {},
   "outputs": [
    {
     "data": {
      "text/plain": [
       "'hello Neha.Welcometo the community'"
      ]
     },
     "execution_count": 99,
     "metadata": {},
     "output_type": "execute_result"
    }
   ],
   "source": [
    "greeting(\"Neha\")"
   ]
  },
  {
   "cell_type": "code",
   "execution_count": 102,
   "id": "97ddfada",
   "metadata": {},
   "outputs": [],
   "source": [
    "def Welcome_email(first_name, last_name):\n",
    "    return \"Welcome {}. Please welcome Ms. {}\".format(first_name, last_name)"
   ]
  },
  {
   "cell_type": "code",
   "execution_count": 103,
   "id": "3854b74f",
   "metadata": {},
   "outputs": [
    {
     "data": {
      "text/plain": [
       "'Welcome Neha. Please welcome Ms. Tiwari'"
      ]
     },
     "execution_count": 103,
     "metadata": {},
     "output_type": "execute_result"
    }
   ],
   "source": [
    "Welcome_email(\"Neha\",\"Tiwari\")"
   ]
  },
  {
   "cell_type": "code",
   "execution_count": 105,
   "id": "b89adfa7",
   "metadata": {},
   "outputs": [],
   "source": [
    "def Welcome_email(first_name, age):\n",
    "    return \"Welcome {first_name}. Your age is {age}\".format(first_name=first_name, age=age)"
   ]
  },
  {
   "cell_type": "code",
   "execution_count": 106,
   "id": "69821aae",
   "metadata": {},
   "outputs": [
    {
     "data": {
      "text/plain": [
       "'Welcome Neha. Your age is 33'"
      ]
     },
     "execution_count": 106,
     "metadata": {},
     "output_type": "execute_result"
    }
   ],
   "source": [
    "Welcome_email(\"Neha\",33)"
   ]
  },
  {
   "cell_type": "markdown",
   "id": "d6164f35",
   "metadata": {},
   "source": [
    "# Python List Iterables vs Iterators"
   ]
  },
  {
   "cell_type": "code",
   "execution_count": 108,
   "id": "a5c28d6c",
   "metadata": {},
   "outputs": [
    {
     "name": "stdout",
     "output_type": "stream",
     "text": [
      "1\n",
      "2\n",
      "3\n",
      "4\n",
      "5\n",
      "6\n",
      "7\n"
     ]
    }
   ],
   "source": [
    "lst=[1,2,3,4,5,6,7]\n",
    "\n",
    "for i in lst:\n",
    "    print(i)"
   ]
  },
  {
   "cell_type": "code",
   "execution_count": 117,
   "id": "7c30ac5a",
   "metadata": {},
   "outputs": [],
   "source": [
    "list=iter(lst)# one by one the values in the list gets initialized in case of iterators"
   ]
  },
  {
   "cell_type": "code",
   "execution_count": 118,
   "id": "48cc024b",
   "metadata": {},
   "outputs": [
    {
     "data": {
      "text/plain": [
       "<list_iterator at 0x23d56e3b130>"
      ]
     },
     "execution_count": 118,
     "metadata": {},
     "output_type": "execute_result"
    }
   ],
   "source": [
    "list"
   ]
  },
  {
   "cell_type": "code",
   "execution_count": 112,
   "id": "9f88a3e0",
   "metadata": {},
   "outputs": [
    {
     "data": {
      "text/plain": [
       "1"
      ]
     },
     "execution_count": 112,
     "metadata": {},
     "output_type": "execute_result"
    }
   ],
   "source": [
    "next(list)"
   ]
  },
  {
   "cell_type": "code",
   "execution_count": 113,
   "id": "81a480b3",
   "metadata": {},
   "outputs": [
    {
     "data": {
      "text/plain": [
       "2"
      ]
     },
     "execution_count": 113,
     "metadata": {},
     "output_type": "execute_result"
    }
   ],
   "source": [
    "next(list)"
   ]
  },
  {
   "cell_type": "code",
   "execution_count": 114,
   "id": "3255da1b",
   "metadata": {},
   "outputs": [
    {
     "data": {
      "text/plain": [
       "3"
      ]
     },
     "execution_count": 114,
     "metadata": {},
     "output_type": "execute_result"
    }
   ],
   "source": [
    "next(list)"
   ]
  },
  {
   "cell_type": "code",
   "execution_count": 119,
   "id": "4ea8b375",
   "metadata": {},
   "outputs": [
    {
     "name": "stdout",
     "output_type": "stream",
     "text": [
      "1\n",
      "2\n",
      "3\n",
      "4\n",
      "5\n",
      "6\n",
      "7\n"
     ]
    }
   ],
   "source": [
    "for i in list:\n",
    "    print(i)"
   ]
  },
  {
   "cell_type": "markdown",
   "id": "916bb314",
   "metadata": {},
   "source": [
    "# pyforest -- Importing all data science libraries in Python"
   ]
  },
  {
   "cell_type": "code",
   "execution_count": 133,
   "id": "61262768",
   "metadata": {},
   "outputs": [],
   "source": [
    "import pyforest"
   ]
  },
  {
   "cell_type": "code",
   "execution_count": 134,
   "id": "f7884ab8",
   "metadata": {},
   "outputs": [],
   "source": [
    "from pyforest import *"
   ]
  },
  {
   "cell_type": "code",
   "execution_count": 139,
   "id": "2042b34a",
   "metadata": {},
   "outputs": [],
   "source": [
    "lst1=[1,2,3,4,5]\n",
    "lst2=[1,4,9,16,25]\n"
   ]
  },
  {
   "cell_type": "code",
   "execution_count": 140,
   "id": "dfedcc73",
   "metadata": {},
   "outputs": [
    {
     "data": {
      "application/javascript": [
       "\n",
       "        if (window._pyforest_update_imports_cell) { window._pyforest_update_imports_cell('import matplotlib.pyplot as plt\\nimport pandas as pd'); }\n",
       "    "
      ],
      "text/plain": [
       "<IPython.core.display.Javascript object>"
      ]
     },
     "metadata": {},
     "output_type": "display_data"
    },
    {
     "data": {
      "application/javascript": [
       "\n",
       "        if (window._pyforest_update_imports_cell) { window._pyforest_update_imports_cell('import matplotlib.pyplot as plt\\nimport pandas as pd'); }\n",
       "    "
      ],
      "text/plain": [
       "<IPython.core.display.Javascript object>"
      ]
     },
     "metadata": {},
     "output_type": "display_data"
    },
    {
     "data": {
      "application/javascript": [
       "\n",
       "        if (window._pyforest_update_imports_cell) { window._pyforest_update_imports_cell('import matplotlib.pyplot as plt\\nimport pandas as pd'); }\n",
       "    "
      ],
      "text/plain": [
       "<IPython.core.display.Javascript object>"
      ]
     },
     "metadata": {},
     "output_type": "display_data"
    },
    {
     "data": {
      "text/plain": [
       "Text(0, 0.5, 'Y Axis')"
      ]
     },
     "execution_count": 140,
     "metadata": {},
     "output_type": "execute_result"
    },
    {
     "data": {
      "image/png": "[encoded data removed]",
      "text/plain": [
       "<Figure size 640x480 with 1 Axes>"
      ]
     },
     "metadata": {},
     "output_type": "display_data"
    }
   ],
   "source": [
    "plt.plot(lst1,lst2)\n",
    "plt.xlabel(\"X Axis\")\n",
    "plt.ylabel(\"Y Axis\")"
   ]
  },
  {
   "cell_type": "code",
   "execution_count": 141,
   "id": "6c19d8f1",
   "metadata": {},
   "outputs": [
    {
     "name": "stdout",
     "output_type": "stream",
     "text": [
      "import matplotlib.pyplot as plt\n",
      "import pandas as pd\n"
     ]
    },
    {
     "data": {
      "text/plain": [
       "['import matplotlib.pyplot as plt', 'import pandas as pd']"
      ]
     },
     "execution_count": 141,
     "metadata": {},
     "output_type": "execute_result"
    }
   ],
   "source": [
    "active_imports()"
   ]
  },
  {
   "cell_type": "code",
   "execution_count": 142,
   "id": "53cc53e8",
   "metadata": {},
   "outputs": [
    {
     "data": {
      "application/javascript": [
       "\n",
       "        if (window._pyforest_update_imports_cell) { window._pyforest_update_imports_cell('import numpy as np\\nimport matplotlib.pyplot as plt\\nimport pandas as pd'); }\n",
       "    "
      ],
      "text/plain": [
       "<IPython.core.display.Javascript object>"
      ]
     },
     "metadata": {},
     "output_type": "display_data"
    },
    {
     "data": {
      "text/plain": [
       "array([1, 2, 3, 4, 5])"
      ]
     },
     "execution_count": 142,
     "metadata": {},
     "output_type": "execute_result"
    }
   ],
   "source": [
    "np.array([1,2,3,4,5])"
   ]
  },
  {
   "cell_type": "code",
   "execution_count": 143,
   "id": "5501b2f2",
   "metadata": {},
   "outputs": [
    {
     "name": "stdout",
     "output_type": "stream",
     "text": [
      "import numpy as np\n",
      "import matplotlib.pyplot as plt\n",
      "import pandas as pd\n"
     ]
    },
    {
     "data": {
      "text/plain": [
       "['import numpy as np',\n",
       " 'import matplotlib.pyplot as plt',\n",
       " 'import pandas as pd']"
      ]
     },
     "execution_count": 143,
     "metadata": {},
     "output_type": "execute_result"
    }
   ],
   "source": [
    "active_imports()"
   ]
  },
  {
   "cell_type": "code",
   "execution_count": null,
   "id": "607dbff3",
   "metadata": {},
   "outputs": [],
   "source": []
  },
  {
   "cell_type": "code",
   "execution_count": null,
   "id": "30ab3bd4",
   "metadata": {},
   "outputs": [],
   "source": []
  },
  {
   "cell_type": "code",
   "execution_count": null,
   "id": "72bb4eac",
   "metadata": {},
   "outputs": [],
   "source": []
  }
 ],
 "metadata": {
  "kernelspec": {
   "display_name": "Python 3 (ipykernel)",
   "language": "python",
   "name": "python3"
  },
  "language_info": {
   "codemirror_mode": {
    "name": "ipython",
    "version": 3
   },
   "file_extension": ".py",
   "mimetype": "text/x-python",
   "name": "python",
   "nbconvert_exporter": "python",
   "pygments_lexer": "ipython3",
   "version": "3.11.7"
  }
 },
 "nbformat": 4,
 "nbformat_minor": 5
}
