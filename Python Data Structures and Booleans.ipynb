{
 "cells": [
  {
   "cell_type": "markdown",
   "id": "ee8951fd",
   "metadata": {},
   "source": [
    "# Boolean Variables"
   ]
  },
  {
   "cell_type": "markdown",
   "id": "0562cdb1",
   "metadata": {},
   "source": [
    "- False\n",
    "- True"
   ]
  },
  {
   "cell_type": "markdown",
   "id": "81ce3db1",
   "metadata": {},
   "source": [
    "- These behave like integers 0 and 1 in numerical contexts\n"
   ]
  },
  {
   "cell_type": "code",
   "execution_count": 1,
   "id": "aec94b3b",
   "metadata": {},
   "outputs": [
    {
     "name": "stdout",
     "output_type": "stream",
     "text": [
      "True False\n"
     ]
    }
   ],
   "source": [
    "print(True, False)"
   ]
  },
  {
   "cell_type": "code",
   "execution_count": 2,
   "id": "040ad3f7",
   "metadata": {},
   "outputs": [
    {
     "data": {
      "text/plain": [
       "bool"
      ]
     },
     "execution_count": 2,
     "metadata": {},
     "output_type": "execute_result"
    }
   ],
   "source": [
    "type(False)"
   ]
  },
  {
   "cell_type": "code",
   "execution_count": 3,
   "id": "124e259d",
   "metadata": {},
   "outputs": [
    {
     "data": {
      "text/plain": [
       "bool"
      ]
     },
     "execution_count": 3,
     "metadata": {},
     "output_type": "execute_result"
    }
   ],
   "source": [
    "type(True)"
   ]
  },
  {
   "cell_type": "code",
   "execution_count": 5,
   "id": "035d0804",
   "metadata": {},
   "outputs": [],
   "source": [
    "Str=\"Neha Tiwari\""
   ]
  },
  {
   "cell_type": "code",
   "execution_count": 10,
   "id": "09c5b575",
   "metadata": {},
   "outputs": [
    {
     "name": "stdout",
     "output_type": "stream",
     "text": [
      "Neha Tiwari\n"
     ]
    }
   ],
   "source": [
    "print(Str)"
   ]
  },
  {
   "cell_type": "code",
   "execution_count": 11,
   "id": "bc5376c0",
   "metadata": {},
   "outputs": [
    {
     "data": {
      "text/plain": [
       "False"
      ]
     },
     "execution_count": 11,
     "metadata": {},
     "output_type": "execute_result"
    }
   ],
   "source": [
    "Str.isspace()"
   ]
  },
  {
   "cell_type": "code",
   "execution_count": 9,
   "id": "be44695d",
   "metadata": {},
   "outputs": [
    {
     "name": "stdout",
     "output_type": "stream",
     "text": [
      "False\n",
      "False\n",
      "False\n",
      "True\n",
      "False\n",
      "False\n",
      "False\n",
      "True\n",
      "True\n"
     ]
    }
   ],
   "source": [
    "print(Str.isalnum()) # if all characters are numeric\n",
    "print(Str.isalpha()) '''A string is alphabetic if all characters in the string are alphabetic and there\n",
    "#is at least one character in the string.'''\n",
    "print(Str.isdigit())# if all string contains digits\n",
    "print(Str.istitle()) # if all string has title words -- Capital case\n",
    "print(Str.isupper()) # if string has upper case characters\n",
    "print(Str.islower()) # if has lower case\n",
    "print(Str.isspace()) # if contains spaces\n",
    "print(Str.endswith('i')) # if strings ends with 'i' -- case sensitive\n",
    "print(Str.startswith('N')) # if string starts with 'N' -- case sensitive"
   ]
  },
  {
   "cell_type": "markdown",
   "id": "7722c8ec",
   "metadata": {},
   "source": [
    "# Boolean and Logical Operators"
   ]
  },
  {
   "cell_type": "code",
   "execution_count": 12,
   "id": "f08703ce",
   "metadata": {},
   "outputs": [
    {
     "data": {
      "text/plain": [
       "True"
      ]
     },
     "execution_count": 12,
     "metadata": {},
     "output_type": "execute_result"
    }
   ],
   "source": [
    "True and True"
   ]
  },
  {
   "cell_type": "code",
   "execution_count": 13,
   "id": "fa62f9d2",
   "metadata": {},
   "outputs": [
    {
     "data": {
      "text/plain": [
       "False"
      ]
     },
     "execution_count": 13,
     "metadata": {},
     "output_type": "execute_result"
    }
   ],
   "source": [
    "True and False"
   ]
  },
  {
   "cell_type": "code",
   "execution_count": 14,
   "id": "6b5989bc",
   "metadata": {},
   "outputs": [
    {
     "data": {
      "text/plain": [
       "True"
      ]
     },
     "execution_count": 14,
     "metadata": {},
     "output_type": "execute_result"
    }
   ],
   "source": [
    "True or True"
   ]
  },
  {
   "cell_type": "code",
   "execution_count": 15,
   "id": "858128a4",
   "metadata": {},
   "outputs": [
    {
     "data": {
      "text/plain": [
       "True"
      ]
     },
     "execution_count": 15,
     "metadata": {},
     "output_type": "execute_result"
    }
   ],
   "source": [
    "True or False"
   ]
  },
  {
   "cell_type": "code",
   "execution_count": 16,
   "id": "9b4f699f",
   "metadata": {},
   "outputs": [
    {
     "data": {
      "text/plain": [
       "False"
      ]
     },
     "execution_count": 16,
     "metadata": {},
     "output_type": "execute_result"
    }
   ],
   "source": [
    "False or False"
   ]
  },
  {
   "cell_type": "code",
   "execution_count": 21,
   "id": "f87c046d",
   "metadata": {},
   "outputs": [],
   "source": [
    "string=\"Hello Python Learner\"\n",
    "name=\"Neha\""
   ]
  },
  {
   "cell_type": "code",
   "execution_count": 24,
   "id": "b048bf7f",
   "metadata": {},
   "outputs": [
    {
     "data": {
      "text/plain": [
       "False"
      ]
     },
     "execution_count": 24,
     "metadata": {},
     "output_type": "execute_result"
    }
   ],
   "source": [
    "string.isalpha() or name.isupper()"
   ]
  },
  {
   "cell_type": "code",
   "execution_count": 27,
   "id": "8470ea9b",
   "metadata": {},
   "outputs": [
    {
     "data": {
      "text/plain": [
       "False"
      ]
     },
     "execution_count": 27,
     "metadata": {},
     "output_type": "execute_result"
    }
   ],
   "source": [
    "string.isalpha() or name.isnumeric()"
   ]
  },
  {
   "cell_type": "markdown",
   "id": "3145739d",
   "metadata": {},
   "source": [
    "# Lists"
   ]
  },
  {
   "cell_type": "markdown",
   "id": "fc1b549c",
   "metadata": {},
   "source": [
    "- Mutable\n",
    "- Changeable\n",
    "- Ordered sequence of Elements\n",
    "- Values in square Brackets\n",
    "- can contain various datatypes\n"
   ]
  },
  {
   "cell_type": "code",
   "execution_count": 30,
   "id": "eba45a31",
   "metadata": {},
   "outputs": [],
   "source": [
    "lst=[]"
   ]
  },
  {
   "cell_type": "code",
   "execution_count": 31,
   "id": "5dd34b37",
   "metadata": {},
   "outputs": [
    {
     "data": {
      "text/plain": [
       "list"
      ]
     },
     "execution_count": 31,
     "metadata": {},
     "output_type": "execute_result"
    }
   ],
   "source": [
    "type(lst)"
   ]
  },
  {
   "cell_type": "code",
   "execution_count": 32,
   "id": "d7633391",
   "metadata": {},
   "outputs": [],
   "source": [
    "lst=list()"
   ]
  },
  {
   "cell_type": "code",
   "execution_count": 33,
   "id": "27f20a18",
   "metadata": {},
   "outputs": [],
   "source": [
    "lst=['Apple','Science',200,True, 300.56]"
   ]
  },
  {
   "cell_type": "code",
   "execution_count": 34,
   "id": "924b8a4b",
   "metadata": {
    "collapsed": true
   },
   "outputs": [
    {
     "data": {
      "text/plain": [
       "['Apple', 'Science', 200, True, 300.56]"
      ]
     },
     "execution_count": 34,
     "metadata": {},
     "output_type": "execute_result"
    }
   ],
   "source": [
    "lst"
   ]
  },
  {
   "cell_type": "markdown",
   "id": "43099ae2",
   "metadata": {},
   "source": [
    "# Functions associated with List"
   ]
  },
  {
   "cell_type": "markdown",
   "id": "eb57ccfd",
   "metadata": {},
   "source": [
    "- Append to add elements at the end of the list "
   ]
  },
  {
   "cell_type": "code",
   "execution_count": 36,
   "id": "e175a8e2",
   "metadata": {},
   "outputs": [],
   "source": [
    "lst.append(\"Neha\")"
   ]
  },
  {
   "cell_type": "code",
   "execution_count": 37,
   "id": "dbcca38e",
   "metadata": {},
   "outputs": [
    {
     "data": {
      "text/plain": [
       "['Apple', 'Science', 200, True, 300.56, 'Neha']"
      ]
     },
     "execution_count": 37,
     "metadata": {},
     "output_type": "execute_result"
    }
   ],
   "source": [
    "lst"
   ]
  },
  {
   "cell_type": "markdown",
   "id": "c4252f57",
   "metadata": {},
   "source": [
    "- Insert to add element at a specific index "
   ]
  },
  {
   "cell_type": "code",
   "execution_count": 38,
   "id": "d87cfc21",
   "metadata": {},
   "outputs": [],
   "source": [
    "lst.insert(3,\"Tiwari\")"
   ]
  },
  {
   "cell_type": "code",
   "execution_count": 39,
   "id": "f87856fc",
   "metadata": {},
   "outputs": [
    {
     "data": {
      "text/plain": [
       "['Apple', 'Science', 200, 'Tiwari', True, 300.56, 'Neha']"
      ]
     },
     "execution_count": 39,
     "metadata": {},
     "output_type": "execute_result"
    }
   ],
   "source": [
    "lst"
   ]
  },
  {
   "cell_type": "markdown",
   "id": "38f51c12",
   "metadata": {},
   "source": [
    "# Indexing in List starts from 0"
   ]
  },
  {
   "cell_type": "code",
   "execution_count": 40,
   "id": "923916cd",
   "metadata": {},
   "outputs": [
    {
     "data": {
      "text/plain": [
       "'Tiwari'"
      ]
     },
     "execution_count": 40,
     "metadata": {},
     "output_type": "execute_result"
    }
   ],
   "source": [
    "lst[3]"
   ]
  },
  {
   "cell_type": "code",
   "execution_count": 41,
   "id": "78a606ff",
   "metadata": {},
   "outputs": [
    {
     "data": {
      "text/plain": [
       "'Science'"
      ]
     },
     "execution_count": 41,
     "metadata": {},
     "output_type": "execute_result"
    }
   ],
   "source": [
    "lst[1]"
   ]
  },
  {
   "cell_type": "code",
   "execution_count": 42,
   "id": "fbc7bd72",
   "metadata": {},
   "outputs": [
    {
     "data": {
      "text/plain": [
       "['Apple', 'Science', 200, 'Tiwari', True, 300.56, 'Neha']"
      ]
     },
     "execution_count": 42,
     "metadata": {},
     "output_type": "execute_result"
    }
   ],
   "source": [
    "lst[:]"
   ]
  },
  {
   "cell_type": "code",
   "execution_count": 43,
   "id": "0838551f",
   "metadata": {},
   "outputs": [
    {
     "data": {
      "text/plain": [
       "['Apple', 'Science', 200, 'Tiwari', True]"
      ]
     },
     "execution_count": 43,
     "metadata": {},
     "output_type": "execute_result"
    }
   ],
   "source": [
    "lst[:-2]"
   ]
  },
  {
   "cell_type": "code",
   "execution_count": 46,
   "id": "72161eb6",
   "metadata": {},
   "outputs": [
    {
     "data": {
      "text/plain": [
       "['Science', 200, 'Tiwari', True, 300.56]"
      ]
     },
     "execution_count": 46,
     "metadata": {},
     "output_type": "execute_result"
    }
   ],
   "source": [
    "lst[1:6]"
   ]
  },
  {
   "cell_type": "markdown",
   "id": "279dd921",
   "metadata": {},
   "source": [
    "- Extend list by appending elements from the iterable as a separate element in the list"
   ]
  },
  {
   "cell_type": "code",
   "execution_count": 47,
   "id": "027903ab",
   "metadata": {},
   "outputs": [],
   "source": [
    "lst=[1,2,3,[4,5],6,7,]"
   ]
  },
  {
   "cell_type": "code",
   "execution_count": 49,
   "id": "b7b3b177",
   "metadata": {},
   "outputs": [],
   "source": [
    "lst.extend([8,9,10])"
   ]
  },
  {
   "cell_type": "code",
   "execution_count": 54,
   "id": "39a36192",
   "metadata": {},
   "outputs": [
    {
     "data": {
      "text/plain": [
       "[1, 2, 3, [4, 5], 6, 7, 8, 9, 10]"
      ]
     },
     "execution_count": 54,
     "metadata": {},
     "output_type": "execute_result"
    }
   ],
   "source": [
    "lst"
   ]
  },
  {
   "cell_type": "markdown",
   "id": "e2e9527b",
   "metadata": {},
   "source": [
    "# Operations which can be performed in the list"
   ]
  },
  {
   "cell_type": "code",
   "execution_count": 57,
   "id": "925f1211",
   "metadata": {},
   "outputs": [],
   "source": [
    "lst=[1,3,6,9,5,4,3]"
   ]
  },
  {
   "cell_type": "code",
   "execution_count": 58,
   "id": "449879a3",
   "metadata": {},
   "outputs": [
    {
     "data": {
      "text/plain": [
       "31"
      ]
     },
     "execution_count": 58,
     "metadata": {},
     "output_type": "execute_result"
    }
   ],
   "source": [
    "sum(lst)"
   ]
  },
  {
   "cell_type": "code",
   "execution_count": 59,
   "id": "c1263296",
   "metadata": {},
   "outputs": [
    {
     "data": {
      "text/plain": [
       "3"
      ]
     },
     "execution_count": 59,
     "metadata": {},
     "output_type": "execute_result"
    }
   ],
   "source": [
    "lst.pop() # remove last element from the list if no index is given bbut if any index is given that value is removed "
   ]
  },
  {
   "cell_type": "code",
   "execution_count": 60,
   "id": "91037d1b",
   "metadata": {},
   "outputs": [
    {
     "data": {
      "text/plain": [
       "[1, 3, 6, 9, 5, 4]"
      ]
     },
     "execution_count": 60,
     "metadata": {},
     "output_type": "execute_result"
    }
   ],
   "source": [
    "lst"
   ]
  },
  {
   "cell_type": "code",
   "execution_count": null,
   "id": "a27de6a6",
   "metadata": {},
   "outputs": [],
   "source": [
    "# count -- counts total occurences of a given element in a list"
   ]
  },
  {
   "cell_type": "code",
   "execution_count": 72,
   "id": "d9d5869d",
   "metadata": {},
   "outputs": [],
   "source": [
    "lst=[1,2,8,2,2,4,5,6,7,8,8,10]"
   ]
  },
  {
   "cell_type": "code",
   "execution_count": 68,
   "id": "94bf8746",
   "metadata": {},
   "outputs": [
    {
     "data": {
      "text/plain": [
       "3"
      ]
     },
     "execution_count": 68,
     "metadata": {},
     "output_type": "execute_result"
    }
   ],
   "source": [
    "lst.count(2)"
   ]
  },
  {
   "cell_type": "code",
   "execution_count": 69,
   "id": "8cbe6787",
   "metadata": {},
   "outputs": [
    {
     "data": {
      "text/plain": [
       "8"
      ]
     },
     "execution_count": 69,
     "metadata": {},
     "output_type": "execute_result"
    }
   ],
   "source": [
    "len(lst)"
   ]
  },
  {
   "cell_type": "code",
   "execution_count": null,
   "id": "1accce6c",
   "metadata": {},
   "outputs": [],
   "source": [
    "# index returns the first occurance of a given element"
   ]
  },
  {
   "cell_type": "code",
   "execution_count": 74,
   "id": "e69b5a22",
   "metadata": {},
   "outputs": [
    {
     "data": {
      "text/plain": [
       "2"
      ]
     },
     "execution_count": 74,
     "metadata": {},
     "output_type": "execute_result"
    }
   ],
   "source": [
    "lst.index(8)"
   ]
  },
  {
   "cell_type": "code",
   "execution_count": 75,
   "id": "2e03038b",
   "metadata": {},
   "outputs": [
    {
     "data": {
      "text/plain": [
       "1"
      ]
     },
     "execution_count": 75,
     "metadata": {},
     "output_type": "execute_result"
    }
   ],
   "source": [
    "min(lst)"
   ]
  },
  {
   "cell_type": "code",
   "execution_count": 76,
   "id": "dea540b2",
   "metadata": {},
   "outputs": [
    {
     "data": {
      "text/plain": [
       "10"
      ]
     },
     "execution_count": 76,
     "metadata": {},
     "output_type": "execute_result"
    }
   ],
   "source": [
    "max(lst)"
   ]
  },
  {
   "cell_type": "code",
   "execution_count": 77,
   "id": "ffa8e030",
   "metadata": {},
   "outputs": [
    {
     "data": {
      "text/plain": [
       "[1, 2, 8, 2, 2, 4, 5, 6, 7, 8, 8, 10, 1, 2, 8, 2, 2, 4, 5, 6, 7, 8, 8, 10]"
      ]
     },
     "execution_count": 77,
     "metadata": {},
     "output_type": "execute_result"
    }
   ],
   "source": [
    "lst*2 # whole list is appended with the same elements of the list in the same order"
   ]
  },
  {
   "cell_type": "code",
   "execution_count": null,
   "id": "c28e6bc3",
   "metadata": {},
   "outputs": [],
   "source": []
  }
 ],
 "metadata": {
  "kernelspec": {
   "display_name": "Python 3 (ipykernel)",
   "language": "python",
   "name": "python3"
  },
  "language_info": {
   "codemirror_mode": {
    "name": "ipython",
    "version": 3
   },
   "file_extension": ".py",
   "mimetype": "text/x-python",
   "name": "python",
   "nbconvert_exporter": "python",
   "pygments_lexer": "ipython3",
   "version": "3.11.7"
  }
 },
 "nbformat": 4,
 "nbformat_minor": 5
}
